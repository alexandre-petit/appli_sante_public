{
 "cells": [
  {
   "cell_type": "markdown",
   "id": "bf45d43f",
   "metadata": {},
   "source": [
    "<h1> Concevoir un application de sante publique - Nettoyage</h1>\n",
    "\n",
    "* [1. Chargements des libraries et donnees](#10)\n",
    "    * [1.1 Chargement des librairies](#11)\n",
    "    * [1.2 Chargement des données](#12)\n",
    "    * [1.3 Suppression des colonnes avec plus de 50% de valeurs manquante](#13)\n",
    "    * [1.4 Différence entre les nutritions scores and grades](#14)\n",
    "    * [1.5 Timestamps](#15)\n",
    "* [2. Filtrage des donnees et suppression des colonnes inutiles a l'application](#20)\n",
    "    * [2.1 Suppression des valeurs nutritives abberantes](#21)\n",
    "    * [2.2 Nettoyage des colonnes restantes](#22)\n",
    "* [3. Valeurs Manquantes et donnees dupliquées](#30)\n",
    "    * [3.1 Produits dupliqués](#31)\n",
    "    * [3.2 Valeurs Manquantes](#32)\n",
    "    * [3.3 Nutriscore](#33)\n",
    "        * [3.3.1 Calcul du Nutriscore](#331)\n",
    "        * [3.3.2 Visualization des resultat de notre modele](#332)\n",
    "        * [3.3.3 Calcul des resultats du nutrigrade](#333)\n",
    "* [4. Sauvegarde des données nettoyées](#40)\n",
    "\n",
    "<h1>Chargement des librairies</h1><a class=\"anchor\" id=\"10\"></a>\n",
    "<h2>1.1 Chargement des librairies</h2><a class=\"anchor\" id=\"11\"></a>"
   ]
  },
  {
   "cell_type": "code",
   "execution_count": 1,
   "id": "10840534",
   "metadata": {},
   "outputs": [],
   "source": [
    "import numpy as np\n",
    "import pandas as pd\n",
    "\n",
    "import matplotlib.pyplot as plt\n",
    "import seaborn as sns\n",
    "%matplotlib inline\n",
    "plt.style.use('seaborn')"
   ]
  },
  {
   "cell_type": "markdown",
   "id": "bc7261bb",
   "metadata": {},
   "source": [
    "<h1>1.2 Chargement des donnees <a class=\"anchor\" id=\"12\"></a></h1>"
   ]
  },
  {
   "cell_type": "code",
   "execution_count": 2,
   "id": "8dd9bf58",
   "metadata": {},
   "outputs": [
    {
     "name": "stderr",
     "output_type": "stream",
     "text": [
      "<timed exec>:1: DtypeWarning: Columns (0,3,5,19,20,24,25,26,27,28,35,36,37,38,39,48) have mixed types. Specify dtype option on import or set low_memory=False.\n"
     ]
    },
    {
     "name": "stdout",
     "output_type": "stream",
     "text": [
      "CPU times: total: 10.5 s\n",
      "Wall time: 10.6 s\n"
     ]
    },
    {
     "data": {
      "text/html": [
       "<div>\n",
       "<style scoped>\n",
       "    .dataframe tbody tr th:only-of-type {\n",
       "        vertical-align: middle;\n",
       "    }\n",
       "\n",
       "    .dataframe tbody tr th {\n",
       "        vertical-align: top;\n",
       "    }\n",
       "\n",
       "    .dataframe thead th {\n",
       "        text-align: right;\n",
       "    }\n",
       "</style>\n",
       "<table border=\"1\" class=\"dataframe\">\n",
       "  <thead>\n",
       "    <tr style=\"text-align: right;\">\n",
       "      <th></th>\n",
       "      <th>code</th>\n",
       "      <th>url</th>\n",
       "      <th>creator</th>\n",
       "      <th>created_t</th>\n",
       "      <th>created_datetime</th>\n",
       "      <th>last_modified_t</th>\n",
       "      <th>last_modified_datetime</th>\n",
       "      <th>product_name</th>\n",
       "      <th>generic_name</th>\n",
       "      <th>quantity</th>\n",
       "      <th>...</th>\n",
       "      <th>ph_100g</th>\n",
       "      <th>fruits-vegetables-nuts_100g</th>\n",
       "      <th>collagen-meat-protein-ratio_100g</th>\n",
       "      <th>cocoa_100g</th>\n",
       "      <th>chlorophyl_100g</th>\n",
       "      <th>carbon-footprint_100g</th>\n",
       "      <th>nutrition-score-fr_100g</th>\n",
       "      <th>nutrition-score-uk_100g</th>\n",
       "      <th>glycemic-index_100g</th>\n",
       "      <th>water-hardness_100g</th>\n",
       "    </tr>\n",
       "  </thead>\n",
       "  <tbody>\n",
       "    <tr>\n",
       "      <th>0</th>\n",
       "      <td>3087</td>\n",
       "      <td>http://world-fr.openfoodfacts.org/produit/0000...</td>\n",
       "      <td>openfoodfacts-contributors</td>\n",
       "      <td>1474103866</td>\n",
       "      <td>2016-09-17T09:17:46Z</td>\n",
       "      <td>1474103893</td>\n",
       "      <td>2016-09-17T09:18:13Z</td>\n",
       "      <td>Farine de blé noir</td>\n",
       "      <td>NaN</td>\n",
       "      <td>1kg</td>\n",
       "      <td>...</td>\n",
       "      <td>NaN</td>\n",
       "      <td>NaN</td>\n",
       "      <td>NaN</td>\n",
       "      <td>NaN</td>\n",
       "      <td>NaN</td>\n",
       "      <td>NaN</td>\n",
       "      <td>NaN</td>\n",
       "      <td>NaN</td>\n",
       "      <td>NaN</td>\n",
       "      <td>NaN</td>\n",
       "    </tr>\n",
       "    <tr>\n",
       "      <th>1</th>\n",
       "      <td>4530</td>\n",
       "      <td>http://world-fr.openfoodfacts.org/produit/0000...</td>\n",
       "      <td>usda-ndb-import</td>\n",
       "      <td>1489069957</td>\n",
       "      <td>2017-03-09T14:32:37Z</td>\n",
       "      <td>1489069957</td>\n",
       "      <td>2017-03-09T14:32:37Z</td>\n",
       "      <td>Banana Chips Sweetened (Whole)</td>\n",
       "      <td>NaN</td>\n",
       "      <td>NaN</td>\n",
       "      <td>...</td>\n",
       "      <td>NaN</td>\n",
       "      <td>NaN</td>\n",
       "      <td>NaN</td>\n",
       "      <td>NaN</td>\n",
       "      <td>NaN</td>\n",
       "      <td>NaN</td>\n",
       "      <td>14.0</td>\n",
       "      <td>14.0</td>\n",
       "      <td>NaN</td>\n",
       "      <td>NaN</td>\n",
       "    </tr>\n",
       "    <tr>\n",
       "      <th>2</th>\n",
       "      <td>4559</td>\n",
       "      <td>http://world-fr.openfoodfacts.org/produit/0000...</td>\n",
       "      <td>usda-ndb-import</td>\n",
       "      <td>1489069957</td>\n",
       "      <td>2017-03-09T14:32:37Z</td>\n",
       "      <td>1489069957</td>\n",
       "      <td>2017-03-09T14:32:37Z</td>\n",
       "      <td>Peanuts</td>\n",
       "      <td>NaN</td>\n",
       "      <td>NaN</td>\n",
       "      <td>...</td>\n",
       "      <td>NaN</td>\n",
       "      <td>NaN</td>\n",
       "      <td>NaN</td>\n",
       "      <td>NaN</td>\n",
       "      <td>NaN</td>\n",
       "      <td>NaN</td>\n",
       "      <td>0.0</td>\n",
       "      <td>0.0</td>\n",
       "      <td>NaN</td>\n",
       "      <td>NaN</td>\n",
       "    </tr>\n",
       "    <tr>\n",
       "      <th>3</th>\n",
       "      <td>16087</td>\n",
       "      <td>http://world-fr.openfoodfacts.org/produit/0000...</td>\n",
       "      <td>usda-ndb-import</td>\n",
       "      <td>1489055731</td>\n",
       "      <td>2017-03-09T10:35:31Z</td>\n",
       "      <td>1489055731</td>\n",
       "      <td>2017-03-09T10:35:31Z</td>\n",
       "      <td>Organic Salted Nut Mix</td>\n",
       "      <td>NaN</td>\n",
       "      <td>NaN</td>\n",
       "      <td>...</td>\n",
       "      <td>NaN</td>\n",
       "      <td>NaN</td>\n",
       "      <td>NaN</td>\n",
       "      <td>NaN</td>\n",
       "      <td>NaN</td>\n",
       "      <td>NaN</td>\n",
       "      <td>12.0</td>\n",
       "      <td>12.0</td>\n",
       "      <td>NaN</td>\n",
       "      <td>NaN</td>\n",
       "    </tr>\n",
       "    <tr>\n",
       "      <th>4</th>\n",
       "      <td>16094</td>\n",
       "      <td>http://world-fr.openfoodfacts.org/produit/0000...</td>\n",
       "      <td>usda-ndb-import</td>\n",
       "      <td>1489055653</td>\n",
       "      <td>2017-03-09T10:34:13Z</td>\n",
       "      <td>1489055653</td>\n",
       "      <td>2017-03-09T10:34:13Z</td>\n",
       "      <td>Organic Polenta</td>\n",
       "      <td>NaN</td>\n",
       "      <td>NaN</td>\n",
       "      <td>...</td>\n",
       "      <td>NaN</td>\n",
       "      <td>NaN</td>\n",
       "      <td>NaN</td>\n",
       "      <td>NaN</td>\n",
       "      <td>NaN</td>\n",
       "      <td>NaN</td>\n",
       "      <td>NaN</td>\n",
       "      <td>NaN</td>\n",
       "      <td>NaN</td>\n",
       "      <td>NaN</td>\n",
       "    </tr>\n",
       "  </tbody>\n",
       "</table>\n",
       "<p>5 rows × 162 columns</p>\n",
       "</div>"
      ],
      "text/plain": [
       "    code                                                url  \\\n",
       "0   3087  http://world-fr.openfoodfacts.org/produit/0000...   \n",
       "1   4530  http://world-fr.openfoodfacts.org/produit/0000...   \n",
       "2   4559  http://world-fr.openfoodfacts.org/produit/0000...   \n",
       "3  16087  http://world-fr.openfoodfacts.org/produit/0000...   \n",
       "4  16094  http://world-fr.openfoodfacts.org/produit/0000...   \n",
       "\n",
       "                      creator   created_t      created_datetime  \\\n",
       "0  openfoodfacts-contributors  1474103866  2016-09-17T09:17:46Z   \n",
       "1             usda-ndb-import  1489069957  2017-03-09T14:32:37Z   \n",
       "2             usda-ndb-import  1489069957  2017-03-09T14:32:37Z   \n",
       "3             usda-ndb-import  1489055731  2017-03-09T10:35:31Z   \n",
       "4             usda-ndb-import  1489055653  2017-03-09T10:34:13Z   \n",
       "\n",
       "  last_modified_t last_modified_datetime                    product_name  \\\n",
       "0      1474103893   2016-09-17T09:18:13Z              Farine de blé noir   \n",
       "1      1489069957   2017-03-09T14:32:37Z  Banana Chips Sweetened (Whole)   \n",
       "2      1489069957   2017-03-09T14:32:37Z                         Peanuts   \n",
       "3      1489055731   2017-03-09T10:35:31Z          Organic Salted Nut Mix   \n",
       "4      1489055653   2017-03-09T10:34:13Z                 Organic Polenta   \n",
       "\n",
       "  generic_name quantity  ... ph_100g fruits-vegetables-nuts_100g  \\\n",
       "0          NaN      1kg  ...     NaN                         NaN   \n",
       "1          NaN      NaN  ...     NaN                         NaN   \n",
       "2          NaN      NaN  ...     NaN                         NaN   \n",
       "3          NaN      NaN  ...     NaN                         NaN   \n",
       "4          NaN      NaN  ...     NaN                         NaN   \n",
       "\n",
       "  collagen-meat-protein-ratio_100g cocoa_100g chlorophyl_100g  \\\n",
       "0                              NaN        NaN             NaN   \n",
       "1                              NaN        NaN             NaN   \n",
       "2                              NaN        NaN             NaN   \n",
       "3                              NaN        NaN             NaN   \n",
       "4                              NaN        NaN             NaN   \n",
       "\n",
       "  carbon-footprint_100g nutrition-score-fr_100g nutrition-score-uk_100g  \\\n",
       "0                   NaN                     NaN                     NaN   \n",
       "1                   NaN                    14.0                    14.0   \n",
       "2                   NaN                     0.0                     0.0   \n",
       "3                   NaN                    12.0                    12.0   \n",
       "4                   NaN                     NaN                     NaN   \n",
       "\n",
       "  glycemic-index_100g water-hardness_100g  \n",
       "0                 NaN                 NaN  \n",
       "1                 NaN                 NaN  \n",
       "2                 NaN                 NaN  \n",
       "3                 NaN                 NaN  \n",
       "4                 NaN                 NaN  \n",
       "\n",
       "[5 rows x 162 columns]"
      ]
     },
     "execution_count": 2,
     "metadata": {},
     "output_type": "execute_result"
    }
   ],
   "source": [
    "%%time\n",
    "df = pd.read_csv('food.csv', sep='\\t')\n",
    "df.head()"
   ]
  },
  {
   "cell_type": "markdown",
   "id": "c182acf3",
   "metadata": {},
   "source": [
    "Nous pouvons déjà noter une erreur. L'extension du fichier à mal été attribuée. Car les données ne sont pas séparés par des virgules comme dans les fichiers csv (comma separated values)"
   ]
  },
  {
   "cell_type": "code",
   "execution_count": 3,
   "id": "39352291",
   "metadata": {},
   "outputs": [
    {
     "data": {
      "text/plain": [
       "(320772, 162)"
      ]
     },
     "execution_count": 3,
     "metadata": {},
     "output_type": "execute_result"
    }
   ],
   "source": [
    "df.shape"
   ]
  },
  {
   "cell_type": "markdown",
   "id": "50fbf90c",
   "metadata": {},
   "source": [
    "<h1>1.3 Suppression des colonnes avec plus de 50% de valeurs manquantes</h1><a class=\"anchor\" id=\"13\"></a>"
   ]
  },
  {
   "cell_type": "code",
   "execution_count": 3,
   "id": "0d6d97eb",
   "metadata": {},
   "outputs": [
    {
     "name": "stdout",
     "output_type": "stream",
     "text": [
      "CPU times: total: 1.5 s\n",
      "Wall time: 1.8 s\n"
     ]
    },
    {
     "data": {
      "text/plain": [
       "<AxesSubplot:xlabel='missing_value_percent', ylabel='column_name'>"
      ]
     },
     "execution_count": 3,
     "metadata": {},
     "output_type": "execute_result"
    },
    {
     "data": {
      "image/png": "[encoded data removed]",
      "text/plain": [
       "<Figure size 864x2304 with 1 Axes>"
      ]
     },
     "metadata": {},
     "output_type": "display_data"
    }
   ],
   "source": [
    "mean_na = pd.DataFrame(columns=['column_name', 'missing_value_percent'])\n",
    "\n",
    "for col in df.columns:\n",
    "    na_percent = df[col].isna().mean()\n",
    "    row = {'column_name': col, 'missing_value_percent': na_percent}\n",
    "    mean_na.loc[len(mean_na)] = row\n",
    "    \n",
    "mean_na.sort_values(by='missing_value_percent', ascending=False, inplace=True)\n",
    "\n",
    "plt.figure(figsize=(12,32), facecolor=\"#eaeaf2\")\n",
    "sns.barplot(data=mean_na, y='column_name', x='missing_value_percent', color='darkgrey');"
   ]
  },
  {
   "cell_type": "code",
   "execution_count": 5,
   "id": "2b96d26c",
   "metadata": {},
   "outputs": [
    {
     "data": {
      "text/html": [
       "<div>\n",
       "<style scoped>\n",
       "    .dataframe tbody tr th:only-of-type {\n",
       "        vertical-align: middle;\n",
       "    }\n",
       "\n",
       "    .dataframe tbody tr th {\n",
       "        vertical-align: top;\n",
       "    }\n",
       "\n",
       "    .dataframe thead th {\n",
       "        text-align: right;\n",
       "    }\n",
       "</style>\n",
       "<table border=\"1\" class=\"dataframe\">\n",
       "  <thead>\n",
       "    <tr style=\"text-align: right;\">\n",
       "      <th></th>\n",
       "      <th>column_name</th>\n",
       "      <th>missing_value_percent</th>\n",
       "    </tr>\n",
       "  </thead>\n",
       "  <tbody>\n",
       "    <tr>\n",
       "      <th>161</th>\n",
       "      <td>water-hardness_100g</td>\n",
       "      <td>1.0</td>\n",
       "    </tr>\n",
       "    <tr>\n",
       "      <th>41</th>\n",
       "      <td>no_nutriments</td>\n",
       "      <td>1.0</td>\n",
       "    </tr>\n",
       "    <tr>\n",
       "      <th>50</th>\n",
       "      <td>ingredients_that_may_be_from_palm_oil</td>\n",
       "      <td>1.0</td>\n",
       "    </tr>\n",
       "    <tr>\n",
       "      <th>52</th>\n",
       "      <td>nutrition_grade_uk</td>\n",
       "      <td>1.0</td>\n",
       "    </tr>\n",
       "    <tr>\n",
       "      <th>98</th>\n",
       "      <td>nervonic-acid_100g</td>\n",
       "      <td>1.0</td>\n",
       "    </tr>\n",
       "  </tbody>\n",
       "</table>\n",
       "</div>"
      ],
      "text/plain": [
       "                               column_name  missing_value_percent\n",
       "161                    water-hardness_100g                    1.0\n",
       "41                           no_nutriments                    1.0\n",
       "50   ingredients_that_may_be_from_palm_oil                    1.0\n",
       "52                      nutrition_grade_uk                    1.0\n",
       "98                      nervonic-acid_100g                    1.0"
      ]
     },
     "execution_count": 5,
     "metadata": {},
     "output_type": "execute_result"
    }
   ],
   "source": [
    "mean_na.head()"
   ]
  },
  {
   "cell_type": "code",
   "execution_count": 6,
   "id": "f3f543f7",
   "metadata": {},
   "outputs": [
    {
     "name": "stdout",
     "output_type": "stream",
     "text": [
      "code: 0.0\n",
      "url: 0.0\n",
      "creator: 0.0\n",
      "created_t: 0.0\n",
      "created_datetime: 0.0\n",
      "last_modified_t: 0.0\n",
      "last_modified_datetime: 0.0\n",
      "product_name: 0.055\n",
      "generic_name: 0.835\n",
      "la colonne generic_name a été supprimé\n",
      "quantity: 0.673\n",
      "la colonne quantity a été supprimé\n",
      "packaging: 0.754\n",
      "la colonne packaging a été supprimé\n",
      "packaging_tags: 0.754\n",
      "la colonne packaging_tags a été supprimé\n",
      "brands: 0.089\n",
      "brands_tags: 0.089\n",
      "categories: 0.737\n",
      "la colonne categories a été supprimé\n",
      "categories_tags: 0.737\n",
      "la colonne categories_tags a été supprimé\n",
      "categories_fr: 0.737\n",
      "la colonne categories_fr a été supprimé\n",
      "origins: 0.931\n",
      "la colonne origins a été supprimé\n",
      "origins_tags: 0.931\n",
      "la colonne origins_tags a été supprimé\n",
      "manufacturing_places: 0.886\n",
      "la colonne manufacturing_places a été supprimé\n",
      "manufacturing_places_tags: 0.886\n",
      "la colonne manufacturing_places_tags a été supprimé\n",
      "labels: 0.855\n",
      "la colonne labels a été supprimé\n",
      "labels_tags: 0.855\n",
      "la colonne labels_tags a été supprimé\n",
      "labels_fr: 0.855\n",
      "la colonne labels_fr a été supprimé\n",
      "emb_codes: 0.909\n",
      "la colonne emb_codes a été supprimé\n",
      "emb_codes_tags: 0.909\n",
      "la colonne emb_codes_tags a été supprimé\n",
      "first_packaging_code_geo: 0.941\n",
      "la colonne first_packaging_code_geo a été supprimé\n",
      "cities: 1.0\n",
      "la colonne cities a été supprimé\n",
      "cities_tags: 0.937\n",
      "la colonne cities_tags a été supprimé\n",
      "purchase_places: 0.819\n",
      "la colonne purchase_places a été supprimé\n",
      "stores: 0.839\n",
      "la colonne stores a été supprimé\n",
      "countries: 0.001\n",
      "countries_tags: 0.001\n",
      "countries_fr: 0.001\n",
      "ingredients_text: 0.224\n",
      "allergens: 0.912\n",
      "la colonne allergens a été supprimé\n",
      "allergens_fr: 1.0\n",
      "la colonne allergens_fr a été supprimé\n",
      "traces: 0.924\n",
      "la colonne traces a été supprimé\n",
      "traces_tags: 0.924\n",
      "la colonne traces_tags a été supprimé\n",
      "traces_fr: 0.924\n",
      "la colonne traces_fr a été supprimé\n",
      "serving_size: 0.341\n",
      "no_nutriments: 1.0\n",
      "la colonne no_nutriments a été supprimé\n",
      "additives_n: 0.224\n",
      "additives: 0.224\n",
      "additives_tags: 0.518\n",
      "la colonne additives_tags a été supprimé\n",
      "additives_fr: 0.518\n",
      "la colonne additives_fr a été supprimé\n",
      "ingredients_from_palm_oil_n: 0.224\n",
      "ingredients_from_palm_oil: 1.0\n",
      "la colonne ingredients_from_palm_oil a été supprimé\n",
      "ingredients_from_palm_oil_tags: 0.985\n",
      "la colonne ingredients_from_palm_oil_tags a été supprimé\n",
      "ingredients_that_may_be_from_palm_oil_n: 0.224\n",
      "ingredients_that_may_be_from_palm_oil: 1.0\n",
      "la colonne ingredients_that_may_be_from_palm_oil a été supprimé\n",
      "ingredients_that_may_be_from_palm_oil_tags: 0.964\n",
      "la colonne ingredients_that_may_be_from_palm_oil_tags a été supprimé\n",
      "nutrition_grade_uk: 1.0\n",
      "la colonne nutrition_grade_uk a été supprimé\n",
      "nutrition_grade_fr: 0.31\n",
      "pnns_groups_1: 0.715\n",
      "la colonne pnns_groups_1 a été supprimé\n",
      "pnns_groups_2: 0.705\n",
      "la colonne pnns_groups_2 a été supprimé\n",
      "states: 0.0\n",
      "states_tags: 0.0\n",
      "states_fr: 0.0\n",
      "main_category: 0.737\n",
      "la colonne main_category a été supprimé\n",
      "main_category_fr: 0.737\n",
      "la colonne main_category_fr a été supprimé\n",
      "image_url: 0.764\n",
      "la colonne image_url a été supprimé\n",
      "image_small_url: 0.764\n",
      "la colonne image_small_url a été supprimé\n",
      "energy_100g: 0.186\n",
      "energy-from-fat_100g: 0.997\n",
      "la colonne energy-from-fat_100g a été supprimé\n",
      "fat_100g: 0.24\n",
      "saturated-fat_100g: 0.284\n",
      "butyric-acid_100g: 1.0\n",
      "la colonne butyric-acid_100g a été supprimé\n",
      "caproic-acid_100g: 1.0\n",
      "la colonne caproic-acid_100g a été supprimé\n",
      "caprylic-acid_100g: 1.0\n",
      "la colonne caprylic-acid_100g a été supprimé\n",
      "capric-acid_100g: 1.0\n",
      "la colonne capric-acid_100g a été supprimé\n",
      "lauric-acid_100g: 1.0\n",
      "la colonne lauric-acid_100g a été supprimé\n",
      "myristic-acid_100g: 1.0\n",
      "la colonne myristic-acid_100g a été supprimé\n",
      "palmitic-acid_100g: 1.0\n",
      "la colonne palmitic-acid_100g a été supprimé\n",
      "stearic-acid_100g: 1.0\n",
      "la colonne stearic-acid_100g a été supprimé\n",
      "arachidic-acid_100g: 1.0\n",
      "la colonne arachidic-acid_100g a été supprimé\n",
      "behenic-acid_100g: 1.0\n",
      "la colonne behenic-acid_100g a été supprimé\n",
      "lignoceric-acid_100g: 1.0\n",
      "la colonne lignoceric-acid_100g a été supprimé\n",
      "cerotic-acid_100g: 1.0\n",
      "la colonne cerotic-acid_100g a été supprimé\n",
      "montanic-acid_100g: 1.0\n",
      "la colonne montanic-acid_100g a été supprimé\n",
      "melissic-acid_100g: 1.0\n",
      "la colonne melissic-acid_100g a été supprimé\n",
      "monounsaturated-fat_100g: 0.929\n",
      "la colonne monounsaturated-fat_100g a été supprimé\n",
      "polyunsaturated-fat_100g: 0.929\n",
      "la colonne polyunsaturated-fat_100g a été supprimé\n",
      "omega-3-fat_100g: 0.997\n",
      "la colonne omega-3-fat_100g a été supprimé\n",
      "alpha-linolenic-acid_100g: 0.999\n",
      "la colonne alpha-linolenic-acid_100g a été supprimé\n",
      "eicosapentaenoic-acid_100g: 1.0\n",
      "la colonne eicosapentaenoic-acid_100g a été supprimé\n",
      "docosahexaenoic-acid_100g: 1.0\n",
      "la colonne docosahexaenoic-acid_100g a été supprimé\n",
      "omega-6-fat_100g: 0.999\n",
      "la colonne omega-6-fat_100g a été supprimé\n",
      "linoleic-acid_100g: 1.0\n",
      "la colonne linoleic-acid_100g a été supprimé\n",
      "arachidonic-acid_100g: 1.0\n",
      "la colonne arachidonic-acid_100g a été supprimé\n",
      "gamma-linolenic-acid_100g: 1.0\n",
      "la colonne gamma-linolenic-acid_100g a été supprimé\n",
      "dihomo-gamma-linolenic-acid_100g: 1.0\n",
      "la colonne dihomo-gamma-linolenic-acid_100g a été supprimé\n",
      "omega-9-fat_100g: 1.0\n",
      "la colonne omega-9-fat_100g a été supprimé\n",
      "oleic-acid_100g: 1.0\n",
      "la colonne oleic-acid_100g a été supprimé\n",
      "elaidic-acid_100g: 1.0\n",
      "la colonne elaidic-acid_100g a été supprimé\n",
      "gondoic-acid_100g: 1.0\n",
      "la colonne gondoic-acid_100g a été supprimé\n",
      "mead-acid_100g: 1.0\n",
      "la colonne mead-acid_100g a été supprimé\n",
      "erucic-acid_100g: 1.0\n",
      "la colonne erucic-acid_100g a été supprimé\n",
      "nervonic-acid_100g: 1.0\n",
      "la colonne nervonic-acid_100g a été supprimé\n",
      "trans-fat_100g: 0.553\n",
      "la colonne trans-fat_100g a été supprimé\n",
      "cholesterol_100g: 0.551\n",
      "la colonne cholesterol_100g a été supprimé\n",
      "carbohydrates_100g: 0.241\n",
      "sugars_100g: 0.236\n",
      "sucrose_100g: 1.0\n",
      "la colonne sucrose_100g a été supprimé\n",
      "glucose_100g: 1.0\n",
      "la colonne glucose_100g a été supprimé\n",
      "fructose_100g: 1.0\n",
      "la colonne fructose_100g a été supprimé\n",
      "lactose_100g: 0.999\n",
      "la colonne lactose_100g a été supprimé\n",
      "maltose_100g: 1.0\n",
      "la colonne maltose_100g a été supprimé\n",
      "maltodextrins_100g: 1.0\n",
      "la colonne maltodextrins_100g a été supprimé\n",
      "starch_100g: 0.999\n",
      "la colonne starch_100g a été supprimé\n",
      "polyols_100g: 0.999\n",
      "la colonne polyols_100g a été supprimé\n",
      "fiber_100g: 0.374\n",
      "proteins_100g: 0.19\n",
      "casein_100g: 1.0\n",
      "la colonne casein_100g a été supprimé\n",
      "serum-proteins_100g: 1.0\n",
      "la colonne serum-proteins_100g a été supprimé\n",
      "nucleotides_100g: 1.0\n",
      "la colonne nucleotides_100g a été supprimé\n",
      "salt_100g: 0.203\n",
      "sodium_100g: 0.204\n",
      "alcohol_100g: 0.987\n",
      "la colonne alcohol_100g a été supprimé\n",
      "vitamin-a_100g: 0.571\n",
      "la colonne vitamin-a_100g a été supprimé\n",
      "beta-carotene_100g: 1.0\n",
      "la colonne beta-carotene_100g a été supprimé\n",
      "vitamin-d_100g: 0.978\n",
      "la colonne vitamin-d_100g a été supprimé\n",
      "vitamin-e_100g: 0.996\n",
      "la colonne vitamin-e_100g a été supprimé\n",
      "vitamin-k_100g: 0.997\n",
      "la colonne vitamin-k_100g a été supprimé\n",
      "vitamin-c_100g: 0.561\n",
      "la colonne vitamin-c_100g a été supprimé\n",
      "vitamin-b1_100g: 0.965\n",
      "la colonne vitamin-b1_100g a été supprimé\n",
      "vitamin-b2_100g: 0.966\n",
      "la colonne vitamin-b2_100g a été supprimé\n",
      "vitamin-pp_100g: 0.963\n",
      "la colonne vitamin-pp_100g a été supprimé\n",
      "vitamin-b6_100g: 0.979\n",
      "la colonne vitamin-b6_100g a été supprimé\n",
      "vitamin-b9_100g: 0.984\n",
      "la colonne vitamin-b9_100g a été supprimé\n",
      "folates_100g: 0.991\n",
      "la colonne folates_100g a été supprimé\n",
      "vitamin-b12_100g: 0.983\n",
      "la colonne vitamin-b12_100g a été supprimé\n",
      "biotin_100g: 0.999\n",
      "la colonne biotin_100g a été supprimé\n",
      "pantothenic-acid_100g: 0.992\n",
      "la colonne pantothenic-acid_100g a été supprimé\n",
      "silica_100g: 1.0\n",
      "la colonne silica_100g a été supprimé\n",
      "bicarbonate_100g: 1.0\n",
      "la colonne bicarbonate_100g a été supprimé\n",
      "potassium_100g: 0.923\n",
      "la colonne potassium_100g a été supprimé\n",
      "chloride_100g: 1.0\n",
      "la colonne chloride_100g a été supprimé\n",
      "calcium_100g: 0.56\n",
      "la colonne calcium_100g a été supprimé\n",
      "phosphorus_100g: 0.982\n",
      "la colonne phosphorus_100g a été supprimé\n",
      "iron_100g: 0.562\n",
      "la colonne iron_100g a été supprimé\n",
      "magnesium_100g: 0.981\n",
      "la colonne magnesium_100g a été supprimé\n",
      "zinc_100g: 0.988\n",
      "la colonne zinc_100g a été supprimé\n",
      "copper_100g: 0.993\n",
      "la colonne copper_100g a été supprimé\n",
      "manganese_100g: 0.995\n",
      "la colonne manganese_100g a été supprimé\n",
      "fluoride_100g: 1.0\n",
      "la colonne fluoride_100g a été supprimé\n",
      "selenium_100g: 0.996\n",
      "la colonne selenium_100g a été supprimé\n",
      "chromium_100g: 1.0\n",
      "la colonne chromium_100g a été supprimé\n"
     ]
    },
    {
     "name": "stdout",
     "output_type": "stream",
     "text": [
      "molybdenum_100g: 1.0\n",
      "la colonne molybdenum_100g a été supprimé\n",
      "iodine_100g: 0.999\n",
      "la colonne iodine_100g a été supprimé\n",
      "caffeine_100g: 1.0\n",
      "la colonne caffeine_100g a été supprimé\n",
      "taurine_100g: 1.0\n",
      "la colonne taurine_100g a été supprimé\n",
      "ph_100g: 1.0\n",
      "la colonne ph_100g a été supprimé\n",
      "fruits-vegetables-nuts_100g: 0.991\n",
      "la colonne fruits-vegetables-nuts_100g a été supprimé\n",
      "collagen-meat-protein-ratio_100g: 0.999\n",
      "la colonne collagen-meat-protein-ratio_100g a été supprimé\n",
      "cocoa_100g: 0.997\n",
      "la colonne cocoa_100g a été supprimé\n",
      "chlorophyl_100g: 1.0\n",
      "la colonne chlorophyl_100g a été supprimé\n",
      "carbon-footprint_100g: 0.999\n",
      "la colonne carbon-footprint_100g a été supprimé\n",
      "nutrition-score-fr_100g: 0.31\n",
      "nutrition-score-uk_100g: 0.31\n",
      "glycemic-index_100g: 1.0\n",
      "la colonne glycemic-index_100g a été supprimé\n",
      "water-hardness_100g: 1.0\n",
      "la colonne water-hardness_100g a été supprimé\n"
     ]
    }
   ],
   "source": [
    "for col in df.columns:\n",
    "    na_percent = df[col].isna().mean()\n",
    "    print(f\"{col}: {round(na_percent, 3)}\")\n",
    "    if na_percent > 0.5:\n",
    "        df.drop(col, axis=1, inplace=True)\n",
    "        print(f'la colonne {col} a été supprimé')"
   ]
  },
  {
   "cell_type": "code",
   "execution_count": 7,
   "id": "08131ce9",
   "metadata": {},
   "outputs": [
    {
     "data": {
      "text/plain": [
       "(320772, 34)"
      ]
     },
     "execution_count": 7,
     "metadata": {},
     "output_type": "execute_result"
    }
   ],
   "source": [
    "df.shape"
   ]
  },
  {
   "cell_type": "markdown",
   "id": "1ff967c5",
   "metadata": {},
   "source": [
    "il n'y a que 34 colonnes avec moins de 50% de valeurs manquantes. Regardons quelles sont celles que nous devons garder pour notre application"
   ]
  },
  {
   "cell_type": "code",
   "execution_count": 8,
   "id": "0e1fd4fd",
   "metadata": {},
   "outputs": [
    {
     "data": {
      "text/plain": [
       "Index(['code', 'url', 'creator', 'created_t', 'created_datetime',\n",
       "       'last_modified_t', 'last_modified_datetime', 'product_name', 'brands',\n",
       "       'brands_tags', 'countries', 'countries_tags', 'countries_fr',\n",
       "       'ingredients_text', 'serving_size', 'additives_n', 'additives',\n",
       "       'ingredients_from_palm_oil_n',\n",
       "       'ingredients_that_may_be_from_palm_oil_n', 'nutrition_grade_fr',\n",
       "       'states', 'states_tags', 'states_fr', 'energy_100g', 'fat_100g',\n",
       "       'saturated-fat_100g', 'carbohydrates_100g', 'sugars_100g', 'fiber_100g',\n",
       "       'proteins_100g', 'salt_100g', 'sodium_100g', 'nutrition-score-fr_100g',\n",
       "       'nutrition-score-uk_100g'],\n",
       "      dtype='object')"
      ]
     },
     "execution_count": 8,
     "metadata": {},
     "output_type": "execute_result"
    }
   ],
   "source": [
    "df.columns"
   ]
  },
  {
   "cell_type": "markdown",
   "id": "a7900cac",
   "metadata": {},
   "source": [
    "<h1>1.4 Différence entre les nutritions scores and grades</h1><a class=\"anchor\" id=\"14\"></a>"
   ]
  },
  {
   "cell_type": "code",
   "execution_count": 9,
   "id": "ed17d1ca",
   "metadata": {},
   "outputs": [
    {
     "data": {
      "text/plain": [
       "array([nan, 'd', 'b', 'c', 'a', 'e'], dtype=object)"
      ]
     },
     "execution_count": 9,
     "metadata": {},
     "output_type": "execute_result"
    }
   ],
   "source": [
    "df.nutrition_grade_fr.unique()"
   ]
  },
  {
   "cell_type": "markdown",
   "id": "bbf8ecca",
   "metadata": {},
   "source": [
    "la colonne nutrition grade semble être ce que nous connaissons sous l'appelation nutri-score"
   ]
  },
  {
   "cell_type": "code",
   "execution_count": 10,
   "id": "cd6268e2",
   "metadata": {},
   "outputs": [
    {
     "data": {
      "text/plain": [
       "array([ nan,  14.,   0.,  12.,   7.,  -6.,  15.,  11.,   9.,  16.,  19.,\n",
       "        -1.,   6.,  26.,  13.,  10.,  17.,  22.,  23.,  30.,   8.,  25.,\n",
       "        -2.,   1.,   2.,  18.,  21.,  20.,   3.,   4.,  24.,  27.,  28.,\n",
       "        -3.,  -4.,  -7.,  -5.,   5.,  29.,  31.,  -8.,  -9.,  35.,  33.,\n",
       "        32.,  34., -10.,  40.,  37.,  38., -11.,  36., -13., -12., -14.,\n",
       "       -15.])"
      ]
     },
     "execution_count": 10,
     "metadata": {},
     "output_type": "execute_result"
    }
   ],
   "source": [
    "df['nutrition-score-fr_100g'].unique()"
   ]
  },
  {
   "cell_type": "code",
   "execution_count": 11,
   "id": "cd30b9bc",
   "metadata": {},
   "outputs": [
    {
     "data": {
      "text/plain": [
       "array([ nan,  14.,   0.,  12.,   7.,  -6.,  15.,  11.,   9.,  16.,  19.,\n",
       "        -1.,   6.,  26.,  13.,  10.,  17.,  22.,  23.,  30.,   8.,  25.,\n",
       "        -2.,   1.,   2.,  18.,  21.,  20.,   3.,   4.,  24.,  27.,  28.,\n",
       "        -3.,  -4.,  -7.,  -5.,   5.,  29.,  31.,  -8.,  -9.,  35.,  33.,\n",
       "        32.,  34., -10.,  40.,  37.,  38., -11.,  36., -13., -12., -14.,\n",
       "       -15.])"
      ]
     },
     "execution_count": 11,
     "metadata": {},
     "output_type": "execute_result"
    }
   ],
   "source": [
    "df['nutrition-score-uk_100g'].unique()"
   ]
  },
  {
   "cell_type": "code",
   "execution_count": 12,
   "id": "6fd19a0b",
   "metadata": {},
   "outputs": [
    {
     "data": {
      "image/png": "[encoded data removed]",
      "text/plain": [
       "<Figure size 576x396 with 1 Axes>"
      ]
     },
     "metadata": {},
     "output_type": "display_data"
    }
   ],
   "source": [
    "sns.histplot(data=df, x='nutrition-score-fr_100g');"
   ]
  },
  {
   "cell_type": "code",
   "execution_count": 13,
   "id": "582fc621",
   "metadata": {},
   "outputs": [
    {
     "data": {
      "image/png": "[encoded data removed]",
      "text/plain": [
       "<Figure size 576x396 with 1 Axes>"
      ]
     },
     "metadata": {},
     "output_type": "display_data"
    }
   ],
   "source": [
    "sns.histplot(data=df, x='nutrition-score-uk_100g');"
   ]
  },
  {
   "cell_type": "markdown",
   "id": "efe61670",
   "metadata": {},
   "source": [
    "La distribution des valeurs est la même pour les nutritions scores, nous n'avons donc pas besoin des deux"
   ]
  },
  {
   "cell_type": "code",
   "execution_count": 14,
   "id": "90759b43",
   "metadata": {},
   "outputs": [],
   "source": [
    "df.drop('nutrition-score-uk_100g', axis=1, inplace=True)"
   ]
  },
  {
   "cell_type": "code",
   "execution_count": 15,
   "id": "d56762c4",
   "metadata": {},
   "outputs": [
    {
     "data": {
      "image/png": "[encoded data removed]",
      "text/plain": [
       "<Figure size 360x72 with 1 Axes>"
      ]
     },
     "metadata": {},
     "output_type": "display_data"
    }
   ],
   "source": [
    "palette_nutriscore = [\"#008b4c\", \"#7fc241\", \"#feca0a\", \"#f58220\", \"#ef3e22\"]\n",
    "sns.palplot(palette_nutriscore)"
   ]
  },
  {
   "cell_type": "code",
   "execution_count": 16,
   "id": "3e183dd4",
   "metadata": {},
   "outputs": [
    {
     "data": {
      "image/png": "[encoded data removed]",
      "text/plain": [
       "<Figure size 864x432 with 1 Axes>"
      ]
     },
     "metadata": {},
     "output_type": "display_data"
    }
   ],
   "source": [
    "plt.figure(figsize=(12,6), facecolor=\"#eaeaf2\")\n",
    "sns.boxplot(data=df, x='nutrition_grade_fr', y='nutrition-score-fr_100g', order=['a', 'b', 'c', 'd', 'e'],\n",
    "            palette=palette_nutriscore)\n",
    "plt.title('Comparaison entre les colonnes nutrition_grade et nutrition-score\\n',\n",
    "         {'size': 18, 'weight': 'normal'});"
   ]
  },
  {
   "cell_type": "markdown",
   "id": "e6138302",
   "metadata": {},
   "source": [
    "Nous pouvons voir une forte correlation entre la colonne nutrition score et la colonne nutrition grade.\n",
    "\n",
    "Nous allons pour le moment la garder car elle permet d'avoir une version numerique et une version categorique du nutriscore."
   ]
  },
  {
   "cell_type": "markdown",
   "id": "f74f4fef",
   "metadata": {},
   "source": [
    "<h1>1.5 Timestamps</h1><a class=\"anchor\" id=\"15\"></a>"
   ]
  },
  {
   "cell_type": "code",
   "execution_count": 17,
   "id": "5c65f250",
   "metadata": {},
   "outputs": [],
   "source": [
    "df.drop(['created_t', 'last_modified_t'], axis=1, inplace=True)"
   ]
  },
  {
   "cell_type": "code",
   "execution_count": 18,
   "id": "889aca6f",
   "metadata": {},
   "outputs": [
    {
     "data": {
      "text/plain": [
       "Index(['code', 'url', 'creator', 'created_datetime', 'last_modified_datetime',\n",
       "       'product_name', 'brands', 'brands_tags', 'countries', 'countries_tags',\n",
       "       'countries_fr', 'ingredients_text', 'serving_size', 'additives_n',\n",
       "       'additives', 'ingredients_from_palm_oil_n',\n",
       "       'ingredients_that_may_be_from_palm_oil_n', 'nutrition_grade_fr',\n",
       "       'states', 'states_tags', 'states_fr', 'energy_100g', 'fat_100g',\n",
       "       'saturated-fat_100g', 'carbohydrates_100g', 'sugars_100g', 'fiber_100g',\n",
       "       'proteins_100g', 'salt_100g', 'sodium_100g', 'nutrition-score-fr_100g'],\n",
       "      dtype='object')"
      ]
     },
     "execution_count": 18,
     "metadata": {},
     "output_type": "execute_result"
    }
   ],
   "source": [
    "df.columns"
   ]
  },
  {
   "cell_type": "markdown",
   "id": "f2284886",
   "metadata": {},
   "source": [
    "Passage de la colonne au format datetime (mois et annee)"
   ]
  },
  {
   "cell_type": "code",
   "execution_count": 19,
   "id": "9b37e817",
   "metadata": {},
   "outputs": [],
   "source": [
    "df['created_datetime'] = df['created_datetime'].str[:7]"
   ]
  },
  {
   "cell_type": "code",
   "execution_count": 20,
   "id": "d3a6a187",
   "metadata": {},
   "outputs": [],
   "source": [
    "df['last_modified_datetime'] = df['last_modified_datetime'].str[:7]"
   ]
  },
  {
   "cell_type": "code",
   "execution_count": 21,
   "id": "a6547ba8",
   "metadata": {},
   "outputs": [
    {
     "data": {
      "text/html": [
       "<div>\n",
       "<style scoped>\n",
       "    .dataframe tbody tr th:only-of-type {\n",
       "        vertical-align: middle;\n",
       "    }\n",
       "\n",
       "    .dataframe tbody tr th {\n",
       "        vertical-align: top;\n",
       "    }\n",
       "\n",
       "    .dataframe thead th {\n",
       "        text-align: right;\n",
       "    }\n",
       "</style>\n",
       "<table border=\"1\" class=\"dataframe\">\n",
       "  <thead>\n",
       "    <tr style=\"text-align: right;\">\n",
       "      <th></th>\n",
       "      <th>code</th>\n",
       "      <th>url</th>\n",
       "      <th>creator</th>\n",
       "      <th>created_datetime</th>\n",
       "      <th>last_modified_datetime</th>\n",
       "      <th>product_name</th>\n",
       "      <th>brands</th>\n",
       "      <th>brands_tags</th>\n",
       "      <th>countries</th>\n",
       "      <th>countries_tags</th>\n",
       "      <th>...</th>\n",
       "      <th>energy_100g</th>\n",
       "      <th>fat_100g</th>\n",
       "      <th>saturated-fat_100g</th>\n",
       "      <th>carbohydrates_100g</th>\n",
       "      <th>sugars_100g</th>\n",
       "      <th>fiber_100g</th>\n",
       "      <th>proteins_100g</th>\n",
       "      <th>salt_100g</th>\n",
       "      <th>sodium_100g</th>\n",
       "      <th>nutrition-score-fr_100g</th>\n",
       "    </tr>\n",
       "  </thead>\n",
       "  <tbody>\n",
       "    <tr>\n",
       "      <th>189068</th>\n",
       "      <td>NaN</td>\n",
       "      <td>NaN</td>\n",
       "      <td>villecomtal-sur-arros-gers-france</td>\n",
       "      <td>NaN</td>\n",
       "      <td>en:belg</td>\n",
       "      <td>Belgique,France</td>\n",
       "      <td>NaN</td>\n",
       "      <td>NaN</td>\n",
       "      <td>en:to-be-completed,en:nutrition-facts-complete...</td>\n",
       "      <td>A compléter,Informations nutritionnelles compl...</td>\n",
       "      <td>...</td>\n",
       "      <td>NaN</td>\n",
       "      <td>NaN</td>\n",
       "      <td>NaN</td>\n",
       "      <td>NaN</td>\n",
       "      <td>NaN</td>\n",
       "      <td>NaN</td>\n",
       "      <td>NaN</td>\n",
       "      <td>NaN</td>\n",
       "      <td>NaN</td>\n",
       "      <td>NaN</td>\n",
       "    </tr>\n",
       "    <tr>\n",
       "      <th>189103</th>\n",
       "      <td>NaN</td>\n",
       "      <td>NaN</td>\n",
       "      <td>villecomtal-sur-arros-gers-france,saint-just-c...</td>\n",
       "      <td>Dia,Sog</td>\n",
       "      <td>en:fran</td>\n",
       "      <td>France</td>\n",
       "      <td>NaN</td>\n",
       "      <td>NaN</td>\n",
       "      <td>en:to-be-checked,en:complete,en:nutrition-fact...</td>\n",
       "      <td>A vérifier,Complet,Informations nutritionnelle...</td>\n",
       "      <td>...</td>\n",
       "      <td>NaN</td>\n",
       "      <td>NaN</td>\n",
       "      <td>NaN</td>\n",
       "      <td>NaN</td>\n",
       "      <td>NaN</td>\n",
       "      <td>NaN</td>\n",
       "      <td>0.137</td>\n",
       "      <td>NaN</td>\n",
       "      <td>NaN</td>\n",
       "      <td>NaN</td>\n",
       "    </tr>\n",
       "    <tr>\n",
       "      <th>189109</th>\n",
       "      <td>NaN</td>\n",
       "      <td>NaN</td>\n",
       "      <td>villecomtal-sur-arros-gers-france</td>\n",
       "      <td>NaN</td>\n",
       "      <td>en:belg</td>\n",
       "      <td>Belgique,France,Suisse</td>\n",
       "      <td>NaN</td>\n",
       "      <td>NaN</td>\n",
       "      <td>en:to-be-checked,en:complete,en:nutrition-fact...</td>\n",
       "      <td>A vérifier,Complet,Informations nutritionnelle...</td>\n",
       "      <td>...</td>\n",
       "      <td>NaN</td>\n",
       "      <td>NaN</td>\n",
       "      <td>NaN</td>\n",
       "      <td>NaN</td>\n",
       "      <td>NaN</td>\n",
       "      <td>NaN</td>\n",
       "      <td>NaN</td>\n",
       "      <td>NaN</td>\n",
       "      <td>NaN</td>\n",
       "      <td>NaN</td>\n",
       "    </tr>\n",
       "    <tr>\n",
       "      <th>189119</th>\n",
       "      <td>NaN</td>\n",
       "      <td>NaN</td>\n",
       "      <td>villecomtal-sur-arros-gers-france</td>\n",
       "      <td>SuperU</td>\n",
       "      <td>en:fran</td>\n",
       "      <td>France</td>\n",
       "      <td>NaN</td>\n",
       "      <td>NaN</td>\n",
       "      <td>en:to-be-checked,en:complete,en:nutrition-fact...</td>\n",
       "      <td>A vérifier,Complet,Informations nutritionnelle...</td>\n",
       "      <td>...</td>\n",
       "      <td>NaN</td>\n",
       "      <td>NaN</td>\n",
       "      <td>NaN</td>\n",
       "      <td>NaN</td>\n",
       "      <td>NaN</td>\n",
       "      <td>NaN</td>\n",
       "      <td>0.122</td>\n",
       "      <td>NaN</td>\n",
       "      <td>NaN</td>\n",
       "      <td>NaN</td>\n",
       "    </tr>\n",
       "    <tr>\n",
       "      <th>189152</th>\n",
       "      <td>NaN</td>\n",
       "      <td>NaN</td>\n",
       "      <td>villecomtal-sur-arros-gers-france</td>\n",
       "      <td>Carrefo</td>\n",
       "      <td>en:fran</td>\n",
       "      <td>France</td>\n",
       "      <td>NaN</td>\n",
       "      <td>NaN</td>\n",
       "      <td>en:to-be-checked,en:complete,en:nutrition-fact...</td>\n",
       "      <td>A vérifier,Complet,Informations nutritionnelle...</td>\n",
       "      <td>...</td>\n",
       "      <td>NaN</td>\n",
       "      <td>NaN</td>\n",
       "      <td>NaN</td>\n",
       "      <td>NaN</td>\n",
       "      <td>NaN</td>\n",
       "      <td>NaN</td>\n",
       "      <td>0.158</td>\n",
       "      <td>NaN</td>\n",
       "      <td>NaN</td>\n",
       "      <td>NaN</td>\n",
       "    </tr>\n",
       "    <tr>\n",
       "      <th>189160</th>\n",
       "      <td>NaN</td>\n",
       "      <td>NaN</td>\n",
       "      <td>villecomtal-sur-arros-gers-france</td>\n",
       "      <td>NaN</td>\n",
       "      <td>en:fran</td>\n",
       "      <td>France</td>\n",
       "      <td>NaN</td>\n",
       "      <td>NaN</td>\n",
       "      <td>en:to-be-checked,en:complete,en:nutrition-fact...</td>\n",
       "      <td>A vérifier,Complet,Informations nutritionnelle...</td>\n",
       "      <td>...</td>\n",
       "      <td>NaN</td>\n",
       "      <td>NaN</td>\n",
       "      <td>NaN</td>\n",
       "      <td>NaN</td>\n",
       "      <td>NaN</td>\n",
       "      <td>NaN</td>\n",
       "      <td>0.156</td>\n",
       "      <td>NaN</td>\n",
       "      <td>NaN</td>\n",
       "      <td>NaN</td>\n",
       "    </tr>\n",
       "    <tr>\n",
       "      <th>189162</th>\n",
       "      <td>NaN</td>\n",
       "      <td>NaN</td>\n",
       "      <td>villecomtal-sur-arros-gers-france</td>\n",
       "      <td>Auchan</td>\n",
       "      <td>en:fran</td>\n",
       "      <td>France</td>\n",
       "      <td>NaN</td>\n",
       "      <td>NaN</td>\n",
       "      <td>en:to-be-checked,en:complete,en:nutrition-fact...</td>\n",
       "      <td>A vérifier,Complet,Informations nutritionnelle...</td>\n",
       "      <td>...</td>\n",
       "      <td>NaN</td>\n",
       "      <td>NaN</td>\n",
       "      <td>NaN</td>\n",
       "      <td>NaN</td>\n",
       "      <td>NaN</td>\n",
       "      <td>NaN</td>\n",
       "      <td>0.158</td>\n",
       "      <td>NaN</td>\n",
       "      <td>NaN</td>\n",
       "      <td>NaN</td>\n",
       "    </tr>\n",
       "    <tr>\n",
       "      <th>189168</th>\n",
       "      <td>NaN</td>\n",
       "      <td>NaN</td>\n",
       "      <td>villecomtal-sur-arros-gers-france</td>\n",
       "      <td>NaN</td>\n",
       "      <td>en:fran</td>\n",
       "      <td>France</td>\n",
       "      <td>NaN</td>\n",
       "      <td>NaN</td>\n",
       "      <td>en:to-be-checked,en:complete,en:nutrition-fact...</td>\n",
       "      <td>A vérifier,Complet,Informations nutritionnelle...</td>\n",
       "      <td>...</td>\n",
       "      <td>NaN</td>\n",
       "      <td>NaN</td>\n",
       "      <td>NaN</td>\n",
       "      <td>NaN</td>\n",
       "      <td>NaN</td>\n",
       "      <td>NaN</td>\n",
       "      <td>0.120</td>\n",
       "      <td>NaN</td>\n",
       "      <td>NaN</td>\n",
       "      <td>NaN</td>\n",
       "    </tr>\n",
       "    <tr>\n",
       "      <th>189242</th>\n",
       "      <td>NaN</td>\n",
       "      <td>NaN</td>\n",
       "      <td>villecomtal-sur-arros-gers-france</td>\n",
       "      <td>Carrefo</td>\n",
       "      <td>en:fran</td>\n",
       "      <td>France</td>\n",
       "      <td>NaN</td>\n",
       "      <td>NaN</td>\n",
       "      <td>en:to-be-checked,en:complete,en:nutrition-fact...</td>\n",
       "      <td>A vérifier,Complet,Informations nutritionnelle...</td>\n",
       "      <td>...</td>\n",
       "      <td>NaN</td>\n",
       "      <td>NaN</td>\n",
       "      <td>NaN</td>\n",
       "      <td>NaN</td>\n",
       "      <td>NaN</td>\n",
       "      <td>NaN</td>\n",
       "      <td>NaN</td>\n",
       "      <td>NaN</td>\n",
       "      <td>NaN</td>\n",
       "      <td>NaN</td>\n",
       "    </tr>\n",
       "    <tr>\n",
       "      <th>189244</th>\n",
       "      <td>NaN</td>\n",
       "      <td>NaN</td>\n",
       "      <td>villecomtal-sur-arros-gers-france</td>\n",
       "      <td>Carrefo</td>\n",
       "      <td>en:fran</td>\n",
       "      <td>France</td>\n",
       "      <td>NaN</td>\n",
       "      <td>NaN</td>\n",
       "      <td>en:to-be-checked,en:complete,en:nutrition-fact...</td>\n",
       "      <td>A vérifier,Complet,Informations nutritionnelle...</td>\n",
       "      <td>...</td>\n",
       "      <td>NaN</td>\n",
       "      <td>NaN</td>\n",
       "      <td>NaN</td>\n",
       "      <td>NaN</td>\n",
       "      <td>NaN</td>\n",
       "      <td>NaN</td>\n",
       "      <td>NaN</td>\n",
       "      <td>NaN</td>\n",
       "      <td>NaN</td>\n",
       "      <td>NaN</td>\n",
       "    </tr>\n",
       "    <tr>\n",
       "      <th>189248</th>\n",
       "      <td>NaN</td>\n",
       "      <td>NaN</td>\n",
       "      <td>villecomtal-sur-arros-gers-france</td>\n",
       "      <td>NaN</td>\n",
       "      <td>en:fran</td>\n",
       "      <td>France</td>\n",
       "      <td>NaN</td>\n",
       "      <td>NaN</td>\n",
       "      <td>en:to-be-checked,en:complete,en:nutrition-fact...</td>\n",
       "      <td>A vérifier,Complet,Informations nutritionnelle...</td>\n",
       "      <td>...</td>\n",
       "      <td>NaN</td>\n",
       "      <td>NaN</td>\n",
       "      <td>NaN</td>\n",
       "      <td>NaN</td>\n",
       "      <td>NaN</td>\n",
       "      <td>NaN</td>\n",
       "      <td>0.120</td>\n",
       "      <td>NaN</td>\n",
       "      <td>NaN</td>\n",
       "      <td>NaN</td>\n",
       "    </tr>\n",
       "    <tr>\n",
       "      <th>189250</th>\n",
       "      <td>NaN</td>\n",
       "      <td>NaN</td>\n",
       "      <td>villecomtal-sur-arros-gers-france</td>\n",
       "      <td>SuperU,</td>\n",
       "      <td>en:fran</td>\n",
       "      <td>France</td>\n",
       "      <td>NaN</td>\n",
       "      <td>NaN</td>\n",
       "      <td>en:to-be-checked,en:complete,en:nutrition-fact...</td>\n",
       "      <td>A vérifier,Complet,Informations nutritionnelle...</td>\n",
       "      <td>...</td>\n",
       "      <td>NaN</td>\n",
       "      <td>NaN</td>\n",
       "      <td>NaN</td>\n",
       "      <td>NaN</td>\n",
       "      <td>NaN</td>\n",
       "      <td>NaN</td>\n",
       "      <td>NaN</td>\n",
       "      <td>NaN</td>\n",
       "      <td>NaN</td>\n",
       "      <td>NaN</td>\n",
       "    </tr>\n",
       "    <tr>\n",
       "      <th>189260</th>\n",
       "      <td>NaN</td>\n",
       "      <td>NaN</td>\n",
       "      <td>villecomtal-sur-arros-gers-france</td>\n",
       "      <td>Spar</td>\n",
       "      <td>en:fran</td>\n",
       "      <td>France</td>\n",
       "      <td>NaN</td>\n",
       "      <td>NaN</td>\n",
       "      <td>en:to-be-checked,en:complete,en:nutrition-fact...</td>\n",
       "      <td>A vérifier,Complet,Informations nutritionnelle...</td>\n",
       "      <td>...</td>\n",
       "      <td>NaN</td>\n",
       "      <td>NaN</td>\n",
       "      <td>NaN</td>\n",
       "      <td>NaN</td>\n",
       "      <td>NaN</td>\n",
       "      <td>NaN</td>\n",
       "      <td>0.132</td>\n",
       "      <td>NaN</td>\n",
       "      <td>NaN</td>\n",
       "      <td>NaN</td>\n",
       "    </tr>\n",
       "    <tr>\n",
       "      <th>189262</th>\n",
       "      <td>NaN</td>\n",
       "      <td>NaN</td>\n",
       "      <td>villecomtal-sur-arros-gers-france</td>\n",
       "      <td>Banque</td>\n",
       "      <td>en:fran</td>\n",
       "      <td>France</td>\n",
       "      <td>NaN</td>\n",
       "      <td>NaN</td>\n",
       "      <td>en:to-be-checked,en:complete,en:nutrition-fact...</td>\n",
       "      <td>A vérifier,Complet,Informations nutritionnelle...</td>\n",
       "      <td>...</td>\n",
       "      <td>NaN</td>\n",
       "      <td>NaN</td>\n",
       "      <td>NaN</td>\n",
       "      <td>NaN</td>\n",
       "      <td>NaN</td>\n",
       "      <td>NaN</td>\n",
       "      <td>0.133</td>\n",
       "      <td>NaN</td>\n",
       "      <td>NaN</td>\n",
       "      <td>NaN</td>\n",
       "    </tr>\n",
       "    <tr>\n",
       "      <th>189269</th>\n",
       "      <td>NaN</td>\n",
       "      <td>NaN</td>\n",
       "      <td>villecomtal-sur-arros-gers-france</td>\n",
       "      <td>Leclerc</td>\n",
       "      <td>en:fran</td>\n",
       "      <td>France</td>\n",
       "      <td>NaN</td>\n",
       "      <td>NaN</td>\n",
       "      <td>en:to-be-checked,en:complete,en:nutrition-fact...</td>\n",
       "      <td>A vérifier,Complet,Informations nutritionnelle...</td>\n",
       "      <td>...</td>\n",
       "      <td>NaN</td>\n",
       "      <td>NaN</td>\n",
       "      <td>NaN</td>\n",
       "      <td>NaN</td>\n",
       "      <td>NaN</td>\n",
       "      <td>NaN</td>\n",
       "      <td>0.135</td>\n",
       "      <td>NaN</td>\n",
       "      <td>NaN</td>\n",
       "      <td>NaN</td>\n",
       "    </tr>\n",
       "    <tr>\n",
       "      <th>189272</th>\n",
       "      <td>NaN</td>\n",
       "      <td>NaN</td>\n",
       "      <td>villecomtal-sur-arros-gers-france</td>\n",
       "      <td>Auchan,</td>\n",
       "      <td>en:fran</td>\n",
       "      <td>France</td>\n",
       "      <td>NaN</td>\n",
       "      <td>NaN</td>\n",
       "      <td>en:to-be-checked,en:complete,en:nutrition-fact...</td>\n",
       "      <td>A vérifier,Complet,Informations nutritionnelle...</td>\n",
       "      <td>...</td>\n",
       "      <td>NaN</td>\n",
       "      <td>NaN</td>\n",
       "      <td>NaN</td>\n",
       "      <td>NaN</td>\n",
       "      <td>NaN</td>\n",
       "      <td>NaN</td>\n",
       "      <td>0.134</td>\n",
       "      <td>NaN</td>\n",
       "      <td>NaN</td>\n",
       "      <td>NaN</td>\n",
       "    </tr>\n",
       "    <tr>\n",
       "      <th>189345</th>\n",
       "      <td>NaN</td>\n",
       "      <td>NaN</td>\n",
       "      <td>villecomtal-sur-arros-gers-france,saint-just-c...</td>\n",
       "      <td>Super U</td>\n",
       "      <td>en:fran</td>\n",
       "      <td>France</td>\n",
       "      <td>NaN</td>\n",
       "      <td>NaN</td>\n",
       "      <td>en:to-be-checked,en:complete,en:nutrition-fact...</td>\n",
       "      <td>A vérifier,Complet,Informations nutritionnelle...</td>\n",
       "      <td>...</td>\n",
       "      <td>NaN</td>\n",
       "      <td>NaN</td>\n",
       "      <td>NaN</td>\n",
       "      <td>NaN</td>\n",
       "      <td>NaN</td>\n",
       "      <td>NaN</td>\n",
       "      <td>0.120</td>\n",
       "      <td>NaN</td>\n",
       "      <td>NaN</td>\n",
       "      <td>NaN</td>\n",
       "    </tr>\n",
       "    <tr>\n",
       "      <th>189362</th>\n",
       "      <td>NaN</td>\n",
       "      <td>NaN</td>\n",
       "      <td>villecomtal-sur-arros-gers-france</td>\n",
       "      <td>NaN</td>\n",
       "      <td>en:fran</td>\n",
       "      <td>France</td>\n",
       "      <td>NaN</td>\n",
       "      <td>NaN</td>\n",
       "      <td>en:to-be-checked,en:complete,en:nutrition-fact...</td>\n",
       "      <td>A vérifier,Complet,Informations nutritionnelle...</td>\n",
       "      <td>...</td>\n",
       "      <td>NaN</td>\n",
       "      <td>NaN</td>\n",
       "      <td>NaN</td>\n",
       "      <td>NaN</td>\n",
       "      <td>NaN</td>\n",
       "      <td>NaN</td>\n",
       "      <td>0.180</td>\n",
       "      <td>NaN</td>\n",
       "      <td>NaN</td>\n",
       "      <td>NaN</td>\n",
       "    </tr>\n",
       "    <tr>\n",
       "      <th>189364</th>\n",
       "      <td>NaN</td>\n",
       "      <td>NaN</td>\n",
       "      <td>villecomtal-sur-arros-gers-france</td>\n",
       "      <td>Cora</td>\n",
       "      <td>en:fran</td>\n",
       "      <td>France</td>\n",
       "      <td>NaN</td>\n",
       "      <td>NaN</td>\n",
       "      <td>en:to-be-completed,en:nutrition-facts-complete...</td>\n",
       "      <td>A compléter,Informations nutritionnelles compl...</td>\n",
       "      <td>...</td>\n",
       "      <td>NaN</td>\n",
       "      <td>NaN</td>\n",
       "      <td>NaN</td>\n",
       "      <td>NaN</td>\n",
       "      <td>NaN</td>\n",
       "      <td>NaN</td>\n",
       "      <td>0.180</td>\n",
       "      <td>NaN</td>\n",
       "      <td>NaN</td>\n",
       "      <td>NaN</td>\n",
       "    </tr>\n",
       "    <tr>\n",
       "      <th>189379</th>\n",
       "      <td>NaN</td>\n",
       "      <td>NaN</td>\n",
       "      <td>villecomtal-sur-arros-gers-france</td>\n",
       "      <td>NaN</td>\n",
       "      <td>en:fran</td>\n",
       "      <td>France</td>\n",
       "      <td>NaN</td>\n",
       "      <td>NaN</td>\n",
       "      <td>en:to-be-checked,en:complete,en:nutrition-fact...</td>\n",
       "      <td>A vérifier,Complet,Informations nutritionnelle...</td>\n",
       "      <td>...</td>\n",
       "      <td>NaN</td>\n",
       "      <td>NaN</td>\n",
       "      <td>NaN</td>\n",
       "      <td>NaN</td>\n",
       "      <td>NaN</td>\n",
       "      <td>NaN</td>\n",
       "      <td>0.149</td>\n",
       "      <td>NaN</td>\n",
       "      <td>NaN</td>\n",
       "      <td>NaN</td>\n",
       "    </tr>\n",
       "    <tr>\n",
       "      <th>189404</th>\n",
       "      <td>NaN</td>\n",
       "      <td>NaN</td>\n",
       "      <td>villecomtal-sur-arros-gers-france</td>\n",
       "      <td>Auchan,</td>\n",
       "      <td>en:fran</td>\n",
       "      <td>France,Suisse</td>\n",
       "      <td>NaN</td>\n",
       "      <td>NaN</td>\n",
       "      <td>en:to-be-checked,en:complete,en:nutrition-fact...</td>\n",
       "      <td>A vérifier,Complet,Informations nutritionnelle...</td>\n",
       "      <td>...</td>\n",
       "      <td>NaN</td>\n",
       "      <td>NaN</td>\n",
       "      <td>NaN</td>\n",
       "      <td>NaN</td>\n",
       "      <td>NaN</td>\n",
       "      <td>NaN</td>\n",
       "      <td>NaN</td>\n",
       "      <td>NaN</td>\n",
       "      <td>NaN</td>\n",
       "      <td>NaN</td>\n",
       "    </tr>\n",
       "    <tr>\n",
       "      <th>189406</th>\n",
       "      <td>NaN</td>\n",
       "      <td>NaN</td>\n",
       "      <td>villecomtal-sur-arros-gers-france</td>\n",
       "      <td>Super U</td>\n",
       "      <td>en:fran</td>\n",
       "      <td>France</td>\n",
       "      <td>NaN</td>\n",
       "      <td>NaN</td>\n",
       "      <td>en:to-be-checked,en:complete,en:nutrition-fact...</td>\n",
       "      <td>A vérifier,Complet,Informations nutritionnelle...</td>\n",
       "      <td>...</td>\n",
       "      <td>NaN</td>\n",
       "      <td>NaN</td>\n",
       "      <td>NaN</td>\n",
       "      <td>NaN</td>\n",
       "      <td>NaN</td>\n",
       "      <td>NaN</td>\n",
       "      <td>NaN</td>\n",
       "      <td>NaN</td>\n",
       "      <td>NaN</td>\n",
       "      <td>NaN</td>\n",
       "    </tr>\n",
       "    <tr>\n",
       "      <th>189417</th>\n",
       "      <td>NaN</td>\n",
       "      <td>NaN</td>\n",
       "      <td>villecomtal-sur-arros-gers-france</td>\n",
       "      <td>NaN</td>\n",
       "      <td>en:fran</td>\n",
       "      <td>France</td>\n",
       "      <td>NaN</td>\n",
       "      <td>NaN</td>\n",
       "      <td>en:to-be-checked,en:complete,en:nutrition-fact...</td>\n",
       "      <td>A vérifier,Complet,Informations nutritionnelle...</td>\n",
       "      <td>...</td>\n",
       "      <td>NaN</td>\n",
       "      <td>NaN</td>\n",
       "      <td>NaN</td>\n",
       "      <td>NaN</td>\n",
       "      <td>NaN</td>\n",
       "      <td>NaN</td>\n",
       "      <td>0.158</td>\n",
       "      <td>NaN</td>\n",
       "      <td>NaN</td>\n",
       "      <td>NaN</td>\n",
       "    </tr>\n",
       "  </tbody>\n",
       "</table>\n",
       "<p>23 rows × 31 columns</p>\n",
       "</div>"
      ],
      "text/plain": [
       "       code  url                                            creator  \\\n",
       "189068  NaN  NaN                  villecomtal-sur-arros-gers-france   \n",
       "189103  NaN  NaN  villecomtal-sur-arros-gers-france,saint-just-c...   \n",
       "189109  NaN  NaN                  villecomtal-sur-arros-gers-france   \n",
       "189119  NaN  NaN                  villecomtal-sur-arros-gers-france   \n",
       "189152  NaN  NaN                  villecomtal-sur-arros-gers-france   \n",
       "189160  NaN  NaN                  villecomtal-sur-arros-gers-france   \n",
       "189162  NaN  NaN                  villecomtal-sur-arros-gers-france   \n",
       "189168  NaN  NaN                  villecomtal-sur-arros-gers-france   \n",
       "189242  NaN  NaN                  villecomtal-sur-arros-gers-france   \n",
       "189244  NaN  NaN                  villecomtal-sur-arros-gers-france   \n",
       "189248  NaN  NaN                  villecomtal-sur-arros-gers-france   \n",
       "189250  NaN  NaN                  villecomtal-sur-arros-gers-france   \n",
       "189260  NaN  NaN                  villecomtal-sur-arros-gers-france   \n",
       "189262  NaN  NaN                  villecomtal-sur-arros-gers-france   \n",
       "189269  NaN  NaN                  villecomtal-sur-arros-gers-france   \n",
       "189272  NaN  NaN                  villecomtal-sur-arros-gers-france   \n",
       "189345  NaN  NaN  villecomtal-sur-arros-gers-france,saint-just-c...   \n",
       "189362  NaN  NaN                  villecomtal-sur-arros-gers-france   \n",
       "189364  NaN  NaN                  villecomtal-sur-arros-gers-france   \n",
       "189379  NaN  NaN                  villecomtal-sur-arros-gers-france   \n",
       "189404  NaN  NaN                  villecomtal-sur-arros-gers-france   \n",
       "189406  NaN  NaN                  villecomtal-sur-arros-gers-france   \n",
       "189417  NaN  NaN                  villecomtal-sur-arros-gers-france   \n",
       "\n",
       "       created_datetime last_modified_datetime            product_name brands  \\\n",
       "189068              NaN                en:belg         Belgique,France    NaN   \n",
       "189103          Dia,Sog                en:fran                  France    NaN   \n",
       "189109              NaN                en:belg  Belgique,France,Suisse    NaN   \n",
       "189119           SuperU                en:fran                  France    NaN   \n",
       "189152          Carrefo                en:fran                  France    NaN   \n",
       "189160              NaN                en:fran                  France    NaN   \n",
       "189162           Auchan                en:fran                  France    NaN   \n",
       "189168              NaN                en:fran                  France    NaN   \n",
       "189242          Carrefo                en:fran                  France    NaN   \n",
       "189244          Carrefo                en:fran                  France    NaN   \n",
       "189248              NaN                en:fran                  France    NaN   \n",
       "189250          SuperU,                en:fran                  France    NaN   \n",
       "189260             Spar                en:fran                  France    NaN   \n",
       "189262          Banque                 en:fran                  France    NaN   \n",
       "189269          Leclerc                en:fran                  France    NaN   \n",
       "189272          Auchan,                en:fran                  France    NaN   \n",
       "189345          Super U                en:fran                  France    NaN   \n",
       "189362              NaN                en:fran                  France    NaN   \n",
       "189364             Cora                en:fran                  France    NaN   \n",
       "189379              NaN                en:fran                  France    NaN   \n",
       "189404          Auchan,                en:fran           France,Suisse    NaN   \n",
       "189406          Super U                en:fran                  France    NaN   \n",
       "189417              NaN                en:fran                  France    NaN   \n",
       "\n",
       "       brands_tags                                          countries  \\\n",
       "189068         NaN  en:to-be-completed,en:nutrition-facts-complete...   \n",
       "189103         NaN  en:to-be-checked,en:complete,en:nutrition-fact...   \n",
       "189109         NaN  en:to-be-checked,en:complete,en:nutrition-fact...   \n",
       "189119         NaN  en:to-be-checked,en:complete,en:nutrition-fact...   \n",
       "189152         NaN  en:to-be-checked,en:complete,en:nutrition-fact...   \n",
       "189160         NaN  en:to-be-checked,en:complete,en:nutrition-fact...   \n",
       "189162         NaN  en:to-be-checked,en:complete,en:nutrition-fact...   \n",
       "189168         NaN  en:to-be-checked,en:complete,en:nutrition-fact...   \n",
       "189242         NaN  en:to-be-checked,en:complete,en:nutrition-fact...   \n",
       "189244         NaN  en:to-be-checked,en:complete,en:nutrition-fact...   \n",
       "189248         NaN  en:to-be-checked,en:complete,en:nutrition-fact...   \n",
       "189250         NaN  en:to-be-checked,en:complete,en:nutrition-fact...   \n",
       "189260         NaN  en:to-be-checked,en:complete,en:nutrition-fact...   \n",
       "189262         NaN  en:to-be-checked,en:complete,en:nutrition-fact...   \n",
       "189269         NaN  en:to-be-checked,en:complete,en:nutrition-fact...   \n",
       "189272         NaN  en:to-be-checked,en:complete,en:nutrition-fact...   \n",
       "189345         NaN  en:to-be-checked,en:complete,en:nutrition-fact...   \n",
       "189362         NaN  en:to-be-checked,en:complete,en:nutrition-fact...   \n",
       "189364         NaN  en:to-be-completed,en:nutrition-facts-complete...   \n",
       "189379         NaN  en:to-be-checked,en:complete,en:nutrition-fact...   \n",
       "189404         NaN  en:to-be-checked,en:complete,en:nutrition-fact...   \n",
       "189406         NaN  en:to-be-checked,en:complete,en:nutrition-fact...   \n",
       "189417         NaN  en:to-be-checked,en:complete,en:nutrition-fact...   \n",
       "\n",
       "                                           countries_tags  ... energy_100g  \\\n",
       "189068  A compléter,Informations nutritionnelles compl...  ...         NaN   \n",
       "189103  A vérifier,Complet,Informations nutritionnelle...  ...         NaN   \n",
       "189109  A vérifier,Complet,Informations nutritionnelle...  ...         NaN   \n",
       "189119  A vérifier,Complet,Informations nutritionnelle...  ...         NaN   \n",
       "189152  A vérifier,Complet,Informations nutritionnelle...  ...         NaN   \n",
       "189160  A vérifier,Complet,Informations nutritionnelle...  ...         NaN   \n",
       "189162  A vérifier,Complet,Informations nutritionnelle...  ...         NaN   \n",
       "189168  A vérifier,Complet,Informations nutritionnelle...  ...         NaN   \n",
       "189242  A vérifier,Complet,Informations nutritionnelle...  ...         NaN   \n",
       "189244  A vérifier,Complet,Informations nutritionnelle...  ...         NaN   \n",
       "189248  A vérifier,Complet,Informations nutritionnelle...  ...         NaN   \n",
       "189250  A vérifier,Complet,Informations nutritionnelle...  ...         NaN   \n",
       "189260  A vérifier,Complet,Informations nutritionnelle...  ...         NaN   \n",
       "189262  A vérifier,Complet,Informations nutritionnelle...  ...         NaN   \n",
       "189269  A vérifier,Complet,Informations nutritionnelle...  ...         NaN   \n",
       "189272  A vérifier,Complet,Informations nutritionnelle...  ...         NaN   \n",
       "189345  A vérifier,Complet,Informations nutritionnelle...  ...         NaN   \n",
       "189362  A vérifier,Complet,Informations nutritionnelle...  ...         NaN   \n",
       "189364  A compléter,Informations nutritionnelles compl...  ...         NaN   \n",
       "189379  A vérifier,Complet,Informations nutritionnelle...  ...         NaN   \n",
       "189404  A vérifier,Complet,Informations nutritionnelle...  ...         NaN   \n",
       "189406  A vérifier,Complet,Informations nutritionnelle...  ...         NaN   \n",
       "189417  A vérifier,Complet,Informations nutritionnelle...  ...         NaN   \n",
       "\n",
       "       fat_100g saturated-fat_100g  carbohydrates_100g sugars_100g  \\\n",
       "189068      NaN                NaN                 NaN         NaN   \n",
       "189103      NaN                NaN                 NaN         NaN   \n",
       "189109      NaN                NaN                 NaN         NaN   \n",
       "189119      NaN                NaN                 NaN         NaN   \n",
       "189152      NaN                NaN                 NaN         NaN   \n",
       "189160      NaN                NaN                 NaN         NaN   \n",
       "189162      NaN                NaN                 NaN         NaN   \n",
       "189168      NaN                NaN                 NaN         NaN   \n",
       "189242      NaN                NaN                 NaN         NaN   \n",
       "189244      NaN                NaN                 NaN         NaN   \n",
       "189248      NaN                NaN                 NaN         NaN   \n",
       "189250      NaN                NaN                 NaN         NaN   \n",
       "189260      NaN                NaN                 NaN         NaN   \n",
       "189262      NaN                NaN                 NaN         NaN   \n",
       "189269      NaN                NaN                 NaN         NaN   \n",
       "189272      NaN                NaN                 NaN         NaN   \n",
       "189345      NaN                NaN                 NaN         NaN   \n",
       "189362      NaN                NaN                 NaN         NaN   \n",
       "189364      NaN                NaN                 NaN         NaN   \n",
       "189379      NaN                NaN                 NaN         NaN   \n",
       "189404      NaN                NaN                 NaN         NaN   \n",
       "189406      NaN                NaN                 NaN         NaN   \n",
       "189417      NaN                NaN                 NaN         NaN   \n",
       "\n",
       "        fiber_100g  proteins_100g salt_100g sodium_100g  \\\n",
       "189068         NaN            NaN       NaN         NaN   \n",
       "189103         NaN          0.137       NaN         NaN   \n",
       "189109         NaN            NaN       NaN         NaN   \n",
       "189119         NaN          0.122       NaN         NaN   \n",
       "189152         NaN          0.158       NaN         NaN   \n",
       "189160         NaN          0.156       NaN         NaN   \n",
       "189162         NaN          0.158       NaN         NaN   \n",
       "189168         NaN          0.120       NaN         NaN   \n",
       "189242         NaN            NaN       NaN         NaN   \n",
       "189244         NaN            NaN       NaN         NaN   \n",
       "189248         NaN          0.120       NaN         NaN   \n",
       "189250         NaN            NaN       NaN         NaN   \n",
       "189260         NaN          0.132       NaN         NaN   \n",
       "189262         NaN          0.133       NaN         NaN   \n",
       "189269         NaN          0.135       NaN         NaN   \n",
       "189272         NaN          0.134       NaN         NaN   \n",
       "189345         NaN          0.120       NaN         NaN   \n",
       "189362         NaN          0.180       NaN         NaN   \n",
       "189364         NaN          0.180       NaN         NaN   \n",
       "189379         NaN          0.149       NaN         NaN   \n",
       "189404         NaN            NaN       NaN         NaN   \n",
       "189406         NaN            NaN       NaN         NaN   \n",
       "189417         NaN          0.158       NaN         NaN   \n",
       "\n",
       "       nutrition-score-fr_100g  \n",
       "189068                     NaN  \n",
       "189103                     NaN  \n",
       "189109                     NaN  \n",
       "189119                     NaN  \n",
       "189152                     NaN  \n",
       "189160                     NaN  \n",
       "189162                     NaN  \n",
       "189168                     NaN  \n",
       "189242                     NaN  \n",
       "189244                     NaN  \n",
       "189248                     NaN  \n",
       "189250                     NaN  \n",
       "189260                     NaN  \n",
       "189262                     NaN  \n",
       "189269                     NaN  \n",
       "189272                     NaN  \n",
       "189345                     NaN  \n",
       "189362                     NaN  \n",
       "189364                     NaN  \n",
       "189379                     NaN  \n",
       "189404                     NaN  \n",
       "189406                     NaN  \n",
       "189417                     NaN  \n",
       "\n",
       "[23 rows x 31 columns]"
      ]
     },
     "execution_count": 21,
     "metadata": {},
     "output_type": "execute_result"
    }
   ],
   "source": [
    "df[df['last_modified_datetime'].str[:2] != '20']"
   ]
  },
  {
   "cell_type": "code",
   "execution_count": 22,
   "id": "f954b4ef",
   "metadata": {},
   "outputs": [],
   "source": [
    "df = df[df['last_modified_datetime'].str[:2] == '20'].copy()"
   ]
  },
  {
   "cell_type": "code",
   "execution_count": 23,
   "id": "f5a20b3e",
   "metadata": {},
   "outputs": [],
   "source": [
    "df['created_datetime'] = pd.to_datetime(df['created_datetime'])\n",
    "df['last_modified_datetime'] = pd.to_datetime(df['last_modified_datetime'])"
   ]
  },
  {
   "cell_type": "markdown",
   "id": "dfd0b7e3",
   "metadata": {},
   "source": [
    "<h1>2. Filtrage des donnees et suppression des colonnes inutiles a l'application</h1><a class=\"anchor\" id=\"20\"></a>"
   ]
  },
  {
   "cell_type": "code",
   "execution_count": 24,
   "id": "da8d7c55",
   "metadata": {},
   "outputs": [],
   "source": [
    "df.drop(['code', 'creator'], axis=1, inplace=True)"
   ]
  },
  {
   "cell_type": "markdown",
   "id": "1408369f",
   "metadata": {},
   "source": [
    "<h1>2.1 Suppression des valeurs nutritives abberantes</h1><a class=\"anchor\" id=\"21\"></a>\n",
    "\n",
    "Les valeurs nutritionnelles de nos aliments sont mesurées par 100 grammes, nous pouvons donc filter:\n",
    "- les aliments avec des macros nutriments (protéines, glucides, matières grasses et sel) sont supérieurs à 100 grams\n",
    "- les valeurs inférieur à 0\n",
    "- les aliments avec plus de sucres que de glucides, et plus de graisses saturées que de matières grasses\n",
    "- les aliments dont l'énergie diverge trop de la valeur calculée à partir des macro-nutriments"
   ]
  },
  {
   "cell_type": "code",
   "execution_count": 25,
   "id": "5c98c77f",
   "metadata": {},
   "outputs": [],
   "source": [
    "df['macro_100g'] = df['fat_100g'] + df['carbohydrates_100g'] + df['proteins_100g'] + df['salt_100g']\n",
    "nutri_cols = ['macro_100g', 'fat_100g', 'carbohydrates_100g', 'proteins_100g', 'salt_100g', 'fiber_100g',\n",
    "              'saturated-fat_100g', 'sugars_100g', 'sodium_100g']\n",
    "\n",
    "for col in nutri_cols:\n",
    "    df = df[(df[col] <= 100) & (df[col] >= 0)]\n",
    "    \n",
    "df['energy_low'] = df['fat_100g'] * 36 + df['carbohydrates_100g'] * 16 + df['proteins_100g'] * 16\n",
    "df['energy_high'] = df['fat_100g'] * 38.5 + df['carbohydrates_100g'] * 17.5 + df['proteins_100g'] * 17.5\n",
    "\n",
    "df = df[(df.energy_100g <= df.energy_high) & (df.energy_100g >= df.energy_low)]\n",
    "\n",
    "df = df[df['carbohydrates_100g'] >= df['sugars_100g']]\n",
    "df = df[df['saturated-fat_100g'] <= df['fat_100g']]\n",
    "\n",
    "df.drop(['macro_100g', 'energy_low', 'energy_high'], axis=1, inplace=True)"
   ]
  },
  {
   "cell_type": "code",
   "execution_count": 26,
   "id": "5f38400a",
   "metadata": {},
   "outputs": [
    {
     "data": {
      "text/plain": [
       "(108265, 29)"
      ]
     },
     "execution_count": 26,
     "metadata": {},
     "output_type": "execute_result"
    }
   ],
   "source": [
    "df.shape"
   ]
  },
  {
   "cell_type": "code",
   "execution_count": 27,
   "id": "900e0198",
   "metadata": {},
   "outputs": [
    {
     "data": {
      "text/plain": [
       "Index(['url', 'created_datetime', 'last_modified_datetime', 'product_name',\n",
       "       'brands', 'brands_tags', 'countries', 'countries_tags', 'countries_fr',\n",
       "       'ingredients_text', 'serving_size', 'additives_n', 'additives',\n",
       "       'ingredients_from_palm_oil_n',\n",
       "       'ingredients_that_may_be_from_palm_oil_n', 'nutrition_grade_fr',\n",
       "       'states', 'states_tags', 'states_fr', 'energy_100g', 'fat_100g',\n",
       "       'saturated-fat_100g', 'carbohydrates_100g', 'sugars_100g', 'fiber_100g',\n",
       "       'proteins_100g', 'salt_100g', 'sodium_100g', 'nutrition-score-fr_100g'],\n",
       "      dtype='object')"
      ]
     },
     "execution_count": 27,
     "metadata": {},
     "output_type": "execute_result"
    }
   ],
   "source": [
    "df.columns"
   ]
  },
  {
   "cell_type": "markdown",
   "id": "3516efd2",
   "metadata": {},
   "source": [
    "La quantité d'aliments issus de l'huile de palme ne nous interessent pas car il s'agit d'un problème écologique et non nutritif"
   ]
  },
  {
   "cell_type": "code",
   "execution_count": 28,
   "id": "780935ee",
   "metadata": {},
   "outputs": [],
   "source": [
    "df.drop(['ingredients_from_palm_oil_n','ingredients_that_may_be_from_palm_oil_n'], axis=1, inplace=True)"
   ]
  },
  {
   "cell_type": "markdown",
   "id": "5fa9c771",
   "metadata": {},
   "source": [
    "<h1>2.2 Nettoyage des colonnes restantes</h1><a class=\"anchor\" id=\"22\"></a>"
   ]
  },
  {
   "cell_type": "code",
   "execution_count": 29,
   "id": "f8478815",
   "metadata": {},
   "outputs": [
    {
     "data": {
      "text/plain": [
       "array([nan, 'torn-glasser', 'daddy-s-muesli', 'sunridge', 'grizzlies',\n",
       "       'golden-temple', 'napoleon', 'bob-s-red-mill', 'viva-la-salud',\n",
       "       'northgate-market', 'pcc', 'northgate', 'not-a-branded-item',\n",
       "       'torn-glasses', 'kirkland-signature', 'fresh-easy',\n",
       "       'giant,fresh-easy', 'asda,asda-extra-special', 'pepsi', 'bijou'],\n",
       "      dtype=object)"
      ]
     },
     "execution_count": 29,
     "metadata": {},
     "output_type": "execute_result"
    }
   ],
   "source": [
    "df.brands_tags.unique()[:20]"
   ]
  },
  {
   "cell_type": "code",
   "execution_count": 30,
   "id": "e8e6e0ed",
   "metadata": {},
   "outputs": [],
   "source": [
    "df.drop('brands_tags', axis=1, inplace=True)"
   ]
  },
  {
   "cell_type": "code",
   "execution_count": 31,
   "id": "0d86f9f3",
   "metadata": {},
   "outputs": [
    {
     "data": {
      "text/plain": [
       "array(['US', 'France, US', 'Canada', 'United Kingdom', 'France',\n",
       "       'United States', 'Germany', 'France,Royaume-Uni', 'UK,France',\n",
       "       'France,Belgique,Pays-Bas,Royaume-Uni', 'France,United Kingdom',\n",
       "       'États-Unis', 'Royaume-Uni,France', 'en:US',\n",
       "       'France,Suisse,États-Unis,Canada', 'États-Unis, en:france, US',\n",
       "       'Belgique,France,Pays-Bas,Royaume-Uni', 'Australie, US',\n",
       "       'France, Suisse', 'en:FR, Suisse'], dtype=object)"
      ]
     },
     "execution_count": 31,
     "metadata": {},
     "output_type": "execute_result"
    }
   ],
   "source": [
    "df.countries.unique()[:20]"
   ]
  },
  {
   "cell_type": "code",
   "execution_count": 32,
   "id": "8ab3723b",
   "metadata": {},
   "outputs": [
    {
     "data": {
      "text/plain": [
       "array(['en:united-states', 'en:france,en:united-states', 'en:canada',\n",
       "       'en:united-kingdom', 'en:france', 'en:germany',\n",
       "       'en:france,en:united-kingdom',\n",
       "       'en:belgium,en:france,en:netherlands,en:united-kingdom',\n",
       "       'en:canada,en:france,en:switzerland,en:united-states',\n",
       "       'en:france,en:united-states,en:etats-unis',\n",
       "       'en:united-states,en:australie', 'en:france,en:switzerland',\n",
       "       'en:australia,en:new-zealand,en:singapore,en:thailand,en:united-states',\n",
       "       'en:united-states,en:pays-bas', 'en:mexico',\n",
       "       'en:united-states,en:deutschland',\n",
       "       'en:france,en:switzerland,en:united-states',\n",
       "       'en:belgium,en:switzerland,en:united-states',\n",
       "       'en:switzerland,en:united-states',\n",
       "       'en:united-states,en:belgie,en:nederland'], dtype=object)"
      ]
     },
     "execution_count": 32,
     "metadata": {},
     "output_type": "execute_result"
    }
   ],
   "source": [
    "df.countries_tags.unique()[:20]"
   ]
  },
  {
   "cell_type": "code",
   "execution_count": 33,
   "id": "db223be9",
   "metadata": {},
   "outputs": [
    {
     "data": {
      "text/plain": [
       "array(['États-Unis', 'France,États-Unis', 'Canada', 'Royaume-Uni',\n",
       "       'France', 'Allemagne', 'France,Royaume-Uni',\n",
       "       'Belgique,France,Pays-Bas,Royaume-Uni',\n",
       "       'Canada,France,Suisse,États-Unis',\n",
       "       'France,États-Unis,en:Etats-unis', 'États-Unis,en:Australie',\n",
       "       'France,Suisse',\n",
       "       'Australie,Nouvelle-Zélande,Singapour,Thaïlande,États-Unis',\n",
       "       'États-Unis,en:Pays-bas', 'Mexique', 'États-Unis,en:Deutschland',\n",
       "       'France,Suisse,États-Unis', 'Belgique,Suisse,États-Unis',\n",
       "       'Suisse,États-Unis', 'États-Unis,en:Belgie,en:Nederland'],\n",
       "      dtype=object)"
      ]
     },
     "execution_count": 33,
     "metadata": {},
     "output_type": "execute_result"
    }
   ],
   "source": [
    "df.countries_fr.unique()[:20]"
   ]
  },
  {
   "cell_type": "code",
   "execution_count": 34,
   "id": "53a06f29",
   "metadata": {},
   "outputs": [
    {
     "data": {
      "text/plain": [
       "array(['en:to-be-completed, en:nutrition-facts-completed, en:ingredients-completed, en:expiration-date-to-be-completed, en:packaging-code-to-be-completed, en:characteristics-to-be-completed, en:categories-to-be-completed, en:brands-to-be-completed, en:packaging-to-be-completed, en:quantity-to-be-completed, en:product-name-completed, en:photos-to-be-uploaded',\n",
       "       'en:to-be-completed, en:nutrition-facts-completed, en:ingredients-completed, en:expiration-date-to-be-completed, en:packaging-code-to-be-completed, en:characteristics-to-be-completed, en:categories-to-be-completed, en:brands-completed, en:packaging-to-be-completed, en:quantity-to-be-completed, en:product-name-completed, en:photos-to-be-uploaded',\n",
       "       'en:to-be-completed, en:nutrition-facts-completed, en:ingredients-completed, en:expiration-date-to-be-completed, en:packaging-code-to-be-completed, en:characteristics-to-be-completed, en:categories-to-be-completed, en:brands-completed, en:packaging-to-be-completed, en:quantity-to-be-completed, en:product-name-completed, en:photos-to-be-validated, en:photos-uploaded',\n",
       "       'en:to-be-checked, en:complete, en:nutrition-facts-completed, en:ingredients-completed, en:expiration-date-to-be-completed, en:packaging-code-to-be-completed, en:characteristics-completed, en:categories-completed, en:brands-completed, en:packaging-completed, en:quantity-completed, en:product-name-completed, en:photos-validated, en:photos-uploaded',\n",
       "       'en:to-be-checked, en:complete, en:nutrition-facts-completed, en:ingredients-completed, en:expiration-date-completed, en:packaging-code-to-be-completed, en:characteristics-completed, en:categories-completed, en:brands-completed, en:packaging-completed, en:quantity-completed, en:product-name-completed, en:photos-validated, en:photos-uploaded'],\n",
       "      dtype=object)"
      ]
     },
     "execution_count": 34,
     "metadata": {},
     "output_type": "execute_result"
    }
   ],
   "source": [
    "df.states.unique()[:5]"
   ]
  },
  {
   "cell_type": "code",
   "execution_count": 35,
   "id": "ef6b9dc0",
   "metadata": {},
   "outputs": [
    {
     "data": {
      "text/plain": [
       "array(['en:to-be-completed,en:nutrition-facts-completed,en:ingredients-completed,en:expiration-date-to-be-completed,en:packaging-code-to-be-completed,en:characteristics-to-be-completed,en:categories-to-be-completed,en:brands-to-be-completed,en:packaging-to-be-completed,en:quantity-to-be-completed,en:product-name-completed,en:photos-to-be-uploaded',\n",
       "       'en:to-be-completed,en:nutrition-facts-completed,en:ingredients-completed,en:expiration-date-to-be-completed,en:packaging-code-to-be-completed,en:characteristics-to-be-completed,en:categories-to-be-completed,en:brands-completed,en:packaging-to-be-completed,en:quantity-to-be-completed,en:product-name-completed,en:photos-to-be-uploaded',\n",
       "       'en:to-be-completed,en:nutrition-facts-completed,en:ingredients-completed,en:expiration-date-to-be-completed,en:packaging-code-to-be-completed,en:characteristics-to-be-completed,en:categories-to-be-completed,en:brands-completed,en:packaging-to-be-completed,en:quantity-to-be-completed,en:product-name-completed,en:photos-to-be-validated,en:photos-uploaded',\n",
       "       'en:to-be-checked,en:complete,en:nutrition-facts-completed,en:ingredients-completed,en:expiration-date-to-be-completed,en:packaging-code-to-be-completed,en:characteristics-completed,en:categories-completed,en:brands-completed,en:packaging-completed,en:quantity-completed,en:product-name-completed,en:photos-validated,en:photos-uploaded',\n",
       "       'en:to-be-checked,en:complete,en:nutrition-facts-completed,en:ingredients-completed,en:expiration-date-completed,en:packaging-code-to-be-completed,en:characteristics-completed,en:categories-completed,en:brands-completed,en:packaging-completed,en:quantity-completed,en:product-name-completed,en:photos-validated,en:photos-uploaded'],\n",
       "      dtype=object)"
      ]
     },
     "execution_count": 35,
     "metadata": {},
     "output_type": "execute_result"
    }
   ],
   "source": [
    "df.states_tags.unique()[:5]"
   ]
  },
  {
   "cell_type": "code",
   "execution_count": 36,
   "id": "32bb2f2a",
   "metadata": {},
   "outputs": [],
   "source": [
    "df.drop(['states_tags', 'states', 'states_fr', 'countries_tags', 'countries'], axis=1, inplace=True)"
   ]
  },
  {
   "cell_type": "code",
   "execution_count": 37,
   "id": "863925fb",
   "metadata": {},
   "outputs": [
    {
     "data": {
      "text/plain": [
       "(108265, 21)"
      ]
     },
     "execution_count": 37,
     "metadata": {},
     "output_type": "execute_result"
    }
   ],
   "source": [
    "df.shape"
   ]
  },
  {
   "cell_type": "code",
   "execution_count": 38,
   "id": "481beb11",
   "metadata": {},
   "outputs": [],
   "source": [
    "df['countries_fr'] = df['countries_fr'].str.replace('en:', '')"
   ]
  },
  {
   "cell_type": "code",
   "execution_count": 39,
   "id": "a815324d",
   "metadata": {},
   "outputs": [
    {
     "data": {
      "text/plain": [
       "313"
      ]
     },
     "execution_count": 39,
     "metadata": {},
     "output_type": "execute_result"
    }
   ],
   "source": [
    "df.countries_fr.nunique()"
   ]
  },
  {
   "cell_type": "markdown",
   "id": "bd069e85",
   "metadata": {},
   "source": [
    "La colonne countries_fr contient plus de valeurs qu'il y a de pays car il y a parfois plusieurs pays, ou des pays orthographié differemment. par exemple: Hong Kong qui apparait aussi comme 香港\n",
    "\n",
    "- Tout d'abord, nous allons remplacer les listes de pays incluant la france, par la france, notre pays cible\n",
    "- Ensuite, nous ne garderons que le premier pays des listes n'incluant pas la france"
   ]
  },
  {
   "cell_type": "code",
   "execution_count": 40,
   "id": "ff549be3",
   "metadata": {},
   "outputs": [
    {
     "data": {
      "text/plain": [
       "États-Unis                79464\n",
       "France                    17704\n",
       "Suisse                     5450\n",
       "Espagne                     985\n",
       "Royaume-Uni                 931\n",
       "Allemagne                   879\n",
       "France,Suisse               501\n",
       "Belgique                    272\n",
       "Belgique,France             180\n",
       "Portugal                    176\n",
       "France,Royaume-Uni          118\n",
       "Italie                      114\n",
       "Pays-Bas                     94\n",
       "Canada                       92\n",
       "Allemagne,Suisse             85\n",
       "France,États-Unis            81\n",
       "Australie                    60\n",
       "France,Allemagne             56\n",
       "France,Espagne               47\n",
       "Belgique,France,Suisse       40\n",
       "France,Guadeloupe            36\n",
       "Autriche                     29\n",
       "Serbie                       27\n",
       "Roumanie                     26\n",
       "Russie                       21\n",
       "Irlande                      19\n",
       "Mexique                      19\n",
       "Nouvelle-Zélande             18\n",
       "Brésil                       16\n",
       "France,La Réunion            16\n",
       "Name: countries_fr, dtype: int64"
      ]
     },
     "execution_count": 40,
     "metadata": {},
     "output_type": "execute_result"
    }
   ],
   "source": [
    "df.countries_fr.value_counts()[:30]"
   ]
  },
  {
   "cell_type": "code",
   "execution_count": 41,
   "id": "8dd1af72",
   "metadata": {},
   "outputs": [],
   "source": [
    "df['countries_fr'] = df['countries_fr'].str.replace('.*France.*', 'France', regex=True)"
   ]
  },
  {
   "cell_type": "code",
   "execution_count": 42,
   "id": "4527550e",
   "metadata": {},
   "outputs": [
    {
     "data": {
      "text/plain": [
       "175"
      ]
     },
     "execution_count": 42,
     "metadata": {},
     "output_type": "execute_result"
    }
   ],
   "source": [
    "df.countries_fr.nunique()"
   ]
  },
  {
   "cell_type": "code",
   "execution_count": 43,
   "id": "2888872f",
   "metadata": {},
   "outputs": [
    {
     "data": {
      "text/plain": [
       "États-Unis           79464\n",
       "France               19055\n",
       "Suisse                5450\n",
       "Espagne                985\n",
       "Royaume-Uni            931\n",
       "Allemagne              879\n",
       "Belgique               272\n",
       "Portugal               176\n",
       "Italie                 114\n",
       "Pays-Bas                94\n",
       "Canada                  92\n",
       "Allemagne,Suisse        85\n",
       "Australie               60\n",
       "Autriche                29\n",
       "Serbie                  27\n",
       "Roumanie                26\n",
       "Russie                  21\n",
       "Mexique                 19\n",
       "Irlande                 19\n",
       "Nouvelle-Zélande        18\n",
       "Brésil                  16\n",
       "Luxembourg              15\n",
       "Canada,États-Unis       13\n",
       "Danemark                13\n",
       "Thaïlande               13\n",
       "Hongrie                 13\n",
       "Suisse,États-Unis       13\n",
       "Guadeloupe              12\n",
       "Suède                   10\n",
       "Guyane                   9\n",
       "Name: countries_fr, dtype: int64"
      ]
     },
     "execution_count": 43,
     "metadata": {},
     "output_type": "execute_result"
    }
   ],
   "source": [
    "df.countries_fr.value_counts()[:30]"
   ]
  },
  {
   "cell_type": "code",
   "execution_count": 44,
   "id": "48d6064f",
   "metadata": {},
   "outputs": [],
   "source": [
    "df['countries_fr'] = df['countries_fr'].str.split(',')\n",
    "df['countries_fr'] = df['countries_fr'].str[0]"
   ]
  },
  {
   "cell_type": "code",
   "execution_count": 45,
   "id": "e2cd0939",
   "metadata": {},
   "outputs": [
    {
     "data": {
      "text/plain": [
       "87"
      ]
     },
     "execution_count": 45,
     "metadata": {},
     "output_type": "execute_result"
    }
   ],
   "source": [
    "df.countries_fr.nunique()"
   ]
  },
  {
   "cell_type": "code",
   "execution_count": 46,
   "id": "897d858c",
   "metadata": {},
   "outputs": [
    {
     "data": {
      "text/plain": [
       "Index(['url', 'created_datetime', 'last_modified_datetime', 'product_name',\n",
       "       'brands', 'countries_fr', 'ingredients_text', 'serving_size',\n",
       "       'additives_n', 'additives', 'nutrition_grade_fr', 'energy_100g',\n",
       "       'fat_100g', 'saturated-fat_100g', 'carbohydrates_100g', 'sugars_100g',\n",
       "       'fiber_100g', 'proteins_100g', 'salt_100g', 'sodium_100g',\n",
       "       'nutrition-score-fr_100g'],\n",
       "      dtype='object')"
      ]
     },
     "execution_count": 46,
     "metadata": {},
     "output_type": "execute_result"
    }
   ],
   "source": [
    "df.columns"
   ]
  },
  {
   "cell_type": "code",
   "execution_count": 47,
   "id": "cc06986e",
   "metadata": {},
   "outputs": [],
   "source": [
    "df.drop('serving_size', axis=1, inplace=True)"
   ]
  },
  {
   "cell_type": "code",
   "execution_count": 48,
   "id": "e5b58543",
   "metadata": {},
   "outputs": [
    {
     "data": {
      "text/plain": [
       "array([' [ bananas -> en:bananas  ]  [ vegetable-oil -> en:vegetable-oil  ]  [ oil -> en:oil  ]  [ coconut-oil -> en:coconut-oil  ]  [ oil -> en:oil  ]  [ corn-oil-and-or-palm-oil-sugar -> en:corn-oil-and-or-palm-oil-sugar  ]  [ oil-and-or-palm-oil-sugar -> en:oil-and-or-palm-oil-sugar  ]  [ and-or-palm-oil-sugar -> en:and-or-palm-oil-sugar  ]  [ or-palm-oil-sugar -> en:or-palm-oil-sugar  ]  [ palm-oil-sugar -> en:palm-oil-sugar  ]  [ oil-sugar -> en:oil-sugar  ]  [ sugar -> en:sugar  ]  [ natural-banana-flavor -> en:natural-banana-flavor  ]  [ banana-flavor -> en:banana-flavor  ]  [ flavor -> en:flavor  ] ',\n",
       "       ' [ peanuts -> en:peanuts  ]  [ wheat-flour -> en:wheat-flour  ]  [ flour -> en:flour  ]  [ sugar -> en:sugar  ]  [ rice-flour -> en:rice-flour  ]  [ flour -> en:flour  ]  [ tapioca-starch -> en:tapioca-starch  ]  [ starch -> en:starch  ]  [ salt -> en:salt  ]  [ leavening -> en:leavening  ]  [ ammonium-bicarbonate -> en:ammonium-bicarbonate  ]  [ bicarbonate -> en:bicarbonate  ]  [ baking-soda -> en:baking-soda  ]  [ soda -> en:soda  ]  [ soy-sauce -> en:soy-sauce  ]  [ sauce -> en:sauce  ]  [ water -> en:water  ]  [ soybeans -> en:soybeans  ]  [ wheat -> en:wheat  ]  [ salt -> en:salt  ]  [ potato-starch -> en:potato-starch  ]  [ starch -> en:starch  ] ',\n",
       "       ' [ org-oats -> en:org-oats  ]  [ oats -> en:oats  ]  [ org-hemp-granola -> en:org-hemp-granola  ]  [ hemp-granola -> en:hemp-granola  ]  [ granola -> en:granola  ]  [ org-oats -> en:org-oats  ]  [ oats -> en:oats  ]  [ evaporated-cane-juice -> en:evaporated-cane-juice  ]  [ cane-juice -> en:cane-juice  ]  [ juice -> en:juice  ]  [ org-expeller-pressed-canola-oil -> en:org-expeller-pressed-canola-oil  ]  [ expeller-pressed-canola-oil -> en:expeller-pressed-canola-oil  ]  [ pressed-canola-oil -> en:pressed-canola-oil  ]  [ canola-oil -> en:canola-oil  ]  [ oil -> en:oil  ]  [ crispy-rice -> en:crispy-rice  ]  [ rice -> en:rice  ]  [ org-brown-rice-flour -> en:org-brown-rice-flour  ]  [ brown-rice-flour -> en:brown-rice-flour  ]  [ rice-flour -> en:rice-flour  ]  [ flour -> en:flour  ]  [ org-evaporated-cane-juice -> en:org-evaporated-cane-juice  ]  [ evaporated-cane-juice -> en:evaporated-cane-juice  ]  [ cane-juice -> en:cane-juice  ]  [ juice -> en:juice  ]  [ org-molasses -> en:org-molasses  ]  [ molasses -> en:molasses  ]  [ sea-salt -> en:sea-salt  ]  [ salt -> en:salt  ]  [ org-flax-seeds -> en:org-flax-seeds  ]  [ flax-seeds -> en:flax-seeds  ]  [ seeds -> en:seeds  ]  [ org-oat-solids -> en:org-oat-solids  ]  [ oat-solids -> en:oat-solids  ]  [ solids -> en:solids  ]  [ hemp-seeds -> en:hemp-seeds  ]  [ seeds -> en:seeds  ]  [ org-raisins -> en:org-raisins  ]  [ raisins -> en:raisins  ]  [ org-dates -> en:org-dates  ]  [ dates -> en:dates  ]  [ org-almonds -> en:org-almonds  ]  [ almonds -> en:almonds  ]  [ org-hazelnuts -> en:org-hazelnuts  ]  [ hazelnuts -> en:hazelnuts  ]  [ org-coconut -> en:org-coconut  ]  [ coconut -> en:coconut  ]  [ org-sunflower-seeds -> en:org-sunflower-seeds  ]  [ sunflower-seeds -> en:sunflower-seeds  ]  [ seeds -> en:seeds  ]  [ org-pumpkin-seeds -> en:org-pumpkin-seeds  ]  [ pumpkin-seeds -> en:pumpkin-seeds  ]  [ seeds -> en:seeds  ]  [ org-flax-seeds -> en:org-flax-seeds  ]  [ flax-seeds -> en:flax-seeds  ]  [ seeds -> en:seeds  ]  [ org-corn-flakes -> en:org-corn-flakes  ]  [ corn-flakes -> en:corn-flakes  ]  [ flakes -> en:flakes  ]  [ org-corn-meal -> en:org-corn-meal  ]  [ corn-meal -> en:corn-meal  ]  [ meal -> en:meal  ]  [ org-grape-and-or-pear-juice-concentrate -> en:org-grape-and-or-pear-juice-concentrate  ]  [ grape-and-or-pear-juice-concentrate -> en:grape-and-or-pear-juice-concentrate  ]  [ and-or-pear-juice-concentrate -> en:and-or-pear-juice-concentrate  ]  [ or-pear-juice-concentrate -> en:or-pear-juice-concentrate  ]  [ pear-juice-concentrate -> en:pear-juice-concentrate  ]  [ juice-concentrate -> en:juice-concentrate  ]  [ concentrate -> en:concentrate  ]  [ sea-salt -> en:sea-salt  ]  [ salt -> en:salt  ]  [ org-quinoa-amaranth-flakes -> en:org-quinoa-amaranth-flakes  ]  [ quinoa-amaranth-flakes -> en:quinoa-amaranth-flakes  ]  [ amaranth-flakes -> en:amaranth-flakes  ]  [ flakes -> en:flakes  ]  [ org-corn-meal -> en:org-corn-meal  ]  [ corn-meal -> en:corn-meal  ]  [ meal -> en:meal  ]  [ org-yellow-corn-flour -> en:org-yellow-corn-flour  ]  [ yellow-corn-flour -> en:yellow-corn-flour  ]  [ corn-flour -> en:corn-flour  ]  [ flour -> en:flour  ]  [ org-evaporated-cane-juice -> en:org-evaporated-cane-juice  ]  [ evaporated-cane-juice -> en:evaporated-cane-juice  ]  [ cane-juice -> en:cane-juice  ]  [ juice -> en:juice  ]  [ org-flax -> en:org-flax  ]  [ flax -> en:flax  ]  [ org-buckwheat-flour -> en:org-buckwheat-flour  ]  [ buckwheat-flour -> en:buckwheat-flour  ]  [ flour -> en:flour  ]  [ org-quinoa -> en:org-quinoa  ]  [ quinoa -> en:quinoa  ]  [ org-amaranth -> en:org-amaranth  ]  [ amaranth -> en:e123  -> exists  -- ok  ]  [ sea-salt -> en:sea-salt  ]  [ salt -> en:salt  ]  [ tocopherols -> en:e307a  -> exists  -- ok  ]  [ natural-vitamin-e -> en:natural-vitamin-e  ]  [ vitamin-e -> en:vitamin-e  ]  [ e -> en:e  ] ',\n",
       "       ' [ roasted-peanuts -> en:roasted-peanuts  ]  [ peanuts -> en:peanuts  ]  [ peanuts -> en:peanuts  ]  [ peanut-or-canola-oil -> en:peanut-or-canola-oil  ]  [ or-canola-oil -> en:or-canola-oil  ]  [ canola-oil -> en:canola-oil  ]  [ oil -> en:oil  ]  [ salt -> en:salt  ]  [ sesame-sticks -> en:sesame-sticks  ]  [ sticks -> en:sticks  ]  [ unbleached-wheat-flour -> en:unbleached-wheat-flour  ]  [ wheat-flour -> en:wheat-flour  ]  [ flour -> en:flour  ]  [ sesame-seeds -> en:sesame-seeds  ]  [ seeds -> en:seeds  ]  [ sunflower-oil -> en:sunflower-oil  ]  [ oil -> en:oil  ]  [ sa -> en:sa  ]  [ t -> en:t  ]  [ beet-powder -> en:beet-powder  ]  [ powder -> en:powder  ]  [ turmeric -> en:e100  -> exists  -- ok  ]  [ chili-crackers -> en:chili-crackers  ]  [ crackers -> en:crackers  ]  [ rice -> en:rice  ]  [ corn-starch -> en:corn-starch  ]  [ starch -> en:starch  ]  [ soy-sauce -> en:soy-sauce  ]  [ sauce -> en:sauce  ]  [ water -> en:water  ]  [ soybeans -> en:soybeans  ]  [ wheat -> en:wheat  ]  [ salt -> en:salt  ]  [ brown-rice-syrup -> en:brown-rice-syrup  ]  [ rice-syrup -> en:rice-syrup  ]  [ syrup -> en:syrup  ]  [ paprika -> en:paprika  ]  [ onion-powder -> en:onion-powder  ]  [ powder -> en:powder  ]  [ garlic-powder -> en:garlic-powder  ]  [ powder -> en:powder  ]  [ tamari-roasted-almonds -> en:tamari-roasted-almonds  ]  [ roasted-almonds -> en:roasted-almonds  ]  [ almonds -> en:almonds  ]  [ almonds -> en:almonds  ]  [ tamari-shoyu -> en:tamari-shoyu  ]  [ shoyu -> en:shoyu  ]  [ water -> en:water  ]  [ wheat -> en:wheat  ]  [ soybeans -> en:soybeans  ]  [ salt -> en:salt  ]  [ salt -> en:salt  ] ',\n",
       "       ' [ yogurt-raisins -> en:yogurt-raisins  ]  [ raisins -> en:raisins  ]  [ tamari-roasted-almonds -> en:tamari-roasted-almonds  ]  [ roasted-almonds -> en:roasted-almonds  ]  [ almonds -> en:almonds  ]  [ organic-tamari-roasted-soy-nuts -> en:organic-tamari-roasted-soy-nuts  ]  [ tamari-roasted-soy-nuts -> en:tamari-roasted-soy-nuts  ]  [ roasted-soy-nuts -> en:roasted-soy-nuts  ]  [ soy-nuts -> en:soy-nuts  ]  [ nuts -> en:nuts  ]  [ dark-chocolate-stars -> en:dark-chocolate-stars  ]  [ chocolate-stars -> en:chocolate-stars  ]  [ stars -> en:stars  ]  [ cranberries -> en:cranberries  ]  [ dark-chocolate-chips -> en:dark-chocolate-chips  ]  [ chocolate-chips -> en:chocolate-chips  ]  [ chips -> en:chips  ]  [ peanut-butter-chips -> en:peanut-butter-chips  ]  [ butter-chips -> en:butter-chips  ]  [ chips -> en:chips  ]  [ milk-chocolate-raisins -> en:milk-chocolate-raisins  ]  [ chocolate-raisins -> en:chocolate-raisins  ]  [ raisins -> en:raisins  ]  [ pineapple -> en:pineapple  ]  [ papaya -> en:papaya  ]  [ peanut-butter-peanuts-raisins -> en:peanut-butter-peanuts-raisins  ]  [ butter-peanuts-raisins -> en:butter-peanuts-raisins  ]  [ peanuts-raisins -> en:peanuts-raisins  ]  [ raisins -> en:raisins  ]  [ roasted-peanuts -> en:roasted-peanuts  ]  [ peanuts -> en:peanuts  ] ',\n",
       "       ' [ organic-rolled-oats -> en:organic-rolled-oats  ]  [ rolled-oats -> en:rolled-oats  ]  [ oats -> en:oats  ]  [ organic-evaporated-cane-juice -> en:organic-evaporated-cane-juice  ]  [ evaporated-cane-juice -> en:evaporated-cane-juice  ]  [ cane-juice -> en:cane-juice  ]  [ juice -> en:juice  ]  [ organic-quinoa-flakes -> en:organic-quinoa-flakes  ]  [ quinoa-flakes -> en:quinoa-flakes  ]  [ flakes -> en:flakes  ]  [ organic-raisins -> en:organic-raisins  ]  [ raisins -> en:raisins  ]  [ organic-expeller-pressed-canola-oil -> en:organic-expeller-pressed-canola-oil  ]  [ expeller-pressed-canola-oil -> en:expeller-pressed-canola-oil  ]  [ pressed-canola-oil -> en:pressed-canola-oil  ]  [ canola-oil -> en:canola-oil  ]  [ oil -> en:oil  ]  [ organic-mango -> en:organic-mango  ]  [ mango -> en:mango  ]  [ organic-oat-bran -> en:organic-oat-bran  ]  [ oat-bran -> en:oat-bran  ]  [ bran -> en:bran  ]  [ organic-coconut -> en:organic-coconut  ]  [ coconut -> en:coconut  ] ',\n",
       "       ' [ dry-roasted-almonds -> en:dry-roasted-almonds  ]  [ roasted-almonds -> en:roasted-almonds  ]  [ almonds -> en:almonds  ]  [ hatch-green-chile-seasoning -> en:hatch-green-chile-seasoning  ]  [ green-chile-seasoning -> en:green-chile-seasoning  ]  [ chile-seasoning -> en:chile-seasoning  ]  [ seasoning -> en:seasoning  ]  [ organic-cheddar-cheese-powder -> en:organic-cheddar-cheese-powder  ]  [ cheddar-cheese-powder -> en:cheddar-cheese-powder  ]  [ cheese-powder -> en:cheese-powder  ]  [ powder -> en:powder  ]  [ organic-cheddar-cheese-cultured-pasteurized-milk -> en:organic-cheddar-cheese-cultured-pasteurized-milk  ]  [ cheddar-cheese-cultured-pasteurized-milk -> en:cheddar-cheese-cultured-pasteurized-milk  ]  [ cheese-cultured-pasteurized-milk -> en:cheese-cultured-pasteurized-milk  ]  [ cultured-pasteurized-milk -> en:cultured-pasteurized-milk  ]  [ pasteurized-milk -> en:pasteurized-milk  ]  [ milk -> en:milk  ]  [ salt -> en:salt  ]  [ enzymes -> en:enzymes  ]  [ organic-nonfat-milk -> en:organic-nonfat-milk  ]  [ nonfat-milk -> en:nonfat-milk  ]  [ milk -> en:milk  ]  [ organic-whey -> en:organic-whey  ]  [ whey -> en:whey  ]  [ salt -> en:salt  ]  [ sodium-phosphate -> en:e339iii  -> exists  -- ok  ]  [ salt -> en:salt  ]  [ hatch-green-chile-pepper -> en:hatch-green-chile-pepper  ]  [ green-chile-pepper -> en:green-chile-pepper  ]  [ chile-pepper -> en:chile-pepper  ]  [ pepper -> en:pepper  ]  [ evaporated-cane-juice -> en:evaporated-cane-juice  ]  [ cane-juice -> en:cane-juice  ]  [ juice -> en:juice  ]  [ onion -> en:onion  ]  [ parsely -> en:parsely  ]  [ natural-flavors -> en:natural-flavors  ]  [ flavors -> en:flavors  ]  [ garlic -> en:garlic  ]  [ maltodextrin -> en:maltodextrin  ]  [ spices -> en:spices  ]  [ spices-extractives -> en:spices-extractives  ]  [ extractives -> en:extractives  ]  [ citric-acid -> en:e330  -> exists  -- ok  ]  [ expeller-pressed-canola-oil -> en:expeller-pressed-canola-oil  ]  [ pressed-canola-oil -> en:pressed-canola-oil  ]  [ canola-oil -> en:canola-oil  ]  [ oil -> en:oil  ] ',\n",
       "       ' [ peanut-butter -> en:peanut-butter  ]  [ butter -> en:butter  ]  [ dry-roasted-peanuts -> en:dry-roasted-peanuts  ]  [ roasted-peanuts -> en:roasted-peanuts  ]  [ peanuts -> en:peanuts  ]  [ palm-oil -> en:palm-oil  ]  [ oil -> en:oil  ]  [ salt -> en:salt  ]  [ honey -> en:honey  ]  [ crispy-brown-rice -> en:crispy-brown-rice  ]  [ brown-rice -> en:brown-rice  ]  [ rice -> en:rice  ]  [ brown-rice-flour -> en:brown-rice-flour  ]  [ rice-flour -> en:rice-flour  ]  [ flour -> en:flour  ]  [ rice-flour -> en:rice-flour  ]  [ flour -> en:flour  ]  [ rice-bran -> en:rice-bran  ]  [ bran -> en:bran  ]  [ honey -> en:honey  ]  [ calcium-carbonate -> en:e170  -> exists  -- ok  ]  [ barley-malt -> en:barley-malt  ]  [ malt -> en:malt  ]  [ soy-lecithin -> en:soy-lecithin  ]  [ lecithin -> en:e322  -> exists  -- ok  ]  [ an-emulsifier -> en:an-emulsifier  ]  [ emulsifier -> en:emulsifier  ]  [ sea-salt -> en:sea-salt  ]  [ salt -> en:salt  ]  [ locust-bean-gum -> en:e410  -> exists  -- ok  ]  [ carrageenan-gum -> en:carrageenan-gum  ]  [ gum -> en:gum  ] ',\n",
       "       ' [ cashews -> en:cashews  ]  [ curry-seasoning -> en:curry-seasoning  ]  [ seasoning -> en:seasoning  ]  [ salt -> en:salt  ]  [ maltodextrin -> en:maltodextrin  ]  [ spices -> en:spices  ]  [ torula-yeast -> en:torula-yeast  ]  [ yeast -> en:yeast  ]  [ onion -> en:onion  ]  [ garlic -> en:garlic  ]  [ turmeric -> en:e100  -> exists  -- ok  ]  [ extractives-of-spice-and-natural-flavor -> en:extractives-of-spice-and-natural-flavor  ]  [ of-spice-and-natural-flavor -> en:of-spice-and-natural-flavor  ]  [ spice-and-natural-flavor -> en:spice-and-natural-flavor  ]  [ and-natural-flavor -> en:and-natural-flavor  ]  [ natural-flavor -> en:natural-flavor  ]  [ flavor -> en:flavor  ]  [ canola-oil -> en:canola-oil  ]  [ oil -> en:oil  ] ',\n",
       "       ' [ organic-rolled-oats -> en:organic-rolled-oats  ]  [ rolled-oats -> en:rolled-oats  ]  [ oats -> en:oats  ]  [ organic-evaporated-cane-juice -> en:organic-evaporated-cane-juice  ]  [ evaporated-cane-juice -> en:evaporated-cane-juice  ]  [ cane-juice -> en:cane-juice  ]  [ juice -> en:juice  ]  [ organic-expeller-pressed-canola-oil -> en:organic-expeller-pressed-canola-oil  ]  [ expeller-pressed-canola-oil -> en:expeller-pressed-canola-oil  ]  [ pressed-canola-oil -> en:pressed-canola-oil  ]  [ canola-oil -> en:canola-oil  ]  [ oil -> en:oil  ]  [ organic-raisins -> en:organic-raisins  ]  [ raisins -> en:raisins  ]  [ organic-apples -> en:organic-apples  ]  [ apples -> en:apples  ]  [ organic-almonds -> en:organic-almonds  ]  [ almonds -> en:almonds  ]  [ organic-oat-bran -> en:organic-oat-bran  ]  [ oat-bran -> en:oat-bran  ]  [ bran -> en:bran  ]  [ organic-blueberries -> en:organic-blueberries  ]  [ blueberries -> en:blueberries  ]  [ organic-sunflower-seeds -> en:organic-sunflower-seeds  ]  [ sunflower-seeds -> en:sunflower-seeds  ]  [ seeds -> en:seeds  ] ',\n",
       "       ' [ organic-rolled-oats -> en:organic-rolled-oats  ]  [ rolled-oats -> en:rolled-oats  ]  [ oats -> en:oats  ]  [ organic-brown-rice-syrup -> en:organic-brown-rice-syrup  ]  [ brown-rice-syrup -> en:brown-rice-syrup  ]  [ rice-syrup -> en:rice-syrup  ]  [ syrup -> en:syrup  ]  [ flame-raisins -> en:flame-raisins  ]  [ raisins -> en:raisins  ]  [ sunflower-oil -> en:sunflower-oil  ]  [ oil -> en:oil  ]  [ wheat-germ -> en:wheat-germ  ]  [ germ -> en:germ  ]  [ unsulphured-blackstrap-molasses -> en:unsulphured-blackstrap-molasses  ]  [ blackstrap-molasses -> en:blackstrap-molasses  ]  [ molasses -> en:molasses  ]  [ organic-maple-syrup -> en:organic-maple-syrup  ]  [ maple-syrup -> en:maple-syrup  ]  [ syrup -> en:syrup  ]  [ honey -> en:honey  ]  [ almond-butter -> en:almond-butter  ]  [ butter -> en:butter  ]  [ organic-cashews -> en:organic-cashews  ]  [ cashews -> en:cashews  ]  [ roasted-almonds -> en:roasted-almonds  ]  [ almonds -> en:almonds  ]  [ organic-spices -> en:organic-spices  ]  [ spices -> en:spices  ] ',\n",
       "       ' [ dark-chocolate-coating -> en:dark-chocolate-coating  ]  [ chocolate-coating -> en:chocolate-coating  ]  [ coating -> en:coating  ]  [ unsweetened-chocolate -> en:unsweetened-chocolate  ]  [ chocolate -> en:chocolate  ]  [ evaporated-cane-juice -> en:evaporated-cane-juice  ]  [ cane-juice -> en:cane-juice  ]  [ juice -> en:juice  ]  [ cocoa-butter -> en:cocoa-butter  ]  [ butter -> en:butter  ]  [ soy-lecithin -> en:soy-lecithin  ]  [ lecithin -> en:e322  -> exists  -- ok  ]  [ an-emulsifier -> en:an-emulsifier  ]  [ emulsifier -> en:emulsifier  ]  [ natural-vanilla -> en:natural-vanilla  ]  [ vanilla -> en:vanilla  ]  [ dry-roasted-almonds -> en:dry-roasted-almonds  ]  [ roasted-almonds -> en:roasted-almonds  ]  [ almonds -> en:almonds  ]  [ turbinado-sugar -> en:turbinado-sugar  ]  [ sugar -> en:sugar  ]  [ sea-salt -> en:sea-salt  ]  [ salt -> en:salt  ] ',\n",
       "       ' [ whole -> en:whole  ]  [ rolled-oats -> en:rolled-oats  ]  [ oats -> en:oats  ]  [ vegetable-oil -> en:vegetable-oil  ]  [ oil -> en:oil  ]  [ canola-and-or-safflower-and-or-sunflower-oil -> en:canola-and-or-safflower-and-or-sunflower-oil  ]  [ and-or-safflower-and-or-sunflower-oil -> en:and-or-safflower-and-or-sunflower-oil  ]  [ or-safflower-and-or-sunflower-oil -> en:or-safflower-and-or-sunflower-oil  ]  [ safflower-and-or-sunflower-oil -> en:safflower-and-or-sunflower-oil  ]  [ and-or-sunflower-oil -> en:and-or-sunflower-oil  ]  [ or-sunflower-oil -> en:or-sunflower-oil  ]  [ sunflower-oil -> en:sunflower-oil  ]  [ oil -> en:oil  ]  [ coconut -> en:coconut  ]  [ milled-cane-sugar -> en:milled-cane-sugar  ]  [ cane-sugar -> en:cane-sugar  ]  [ sugar -> en:sugar  ]  [ almonds -> en:almonds  ]  [ molasses -> en:molasses  ]  [ honey -> en:honey  ]  [ salt -> en:salt  ]  [ organic-cardamon-seed -> en:organic-cardamon-seed  ]  [ cardamon-seed -> en:cardamon-seed  ]  [ seed -> en:seed  ]  [ organic-fennel-seed -> en:organic-fennel-seed  ]  [ fennel-seed -> en:fennel-seed  ]  [ seed -> en:seed  ]  [ organic-fenugreek-seed -> en:organic-fenugreek-seed  ]  [ fenugreek-seed -> en:fenugreek-seed  ]  [ seed -> en:seed  ]  [ organic-nutmeg -> en:organic-nutmeg  ]  [ nutmeg -> en:nutmeg  ] ',\n",
       "       ' [ whole-rolled-oats -> en:whole-rolled-oats  ]  [ rolled-oats -> en:rolled-oats  ]  [ oats -> en:oats  ]  [ milled-cane-sugar -> en:milled-cane-sugar  ]  [ cane-sugar -> en:cane-sugar  ]  [ sugar -> en:sugar  ]  [ vegetable-oil -> en:vegetable-oil  ]  [ oil -> en:oil  ]  [ canola-and-or-safflower-and-or-sunflower-oil -> en:canola-and-or-safflower-and-or-sunflower-oil  ]  [ and-or-safflower-and-or-sunflower-oil -> en:and-or-safflower-and-or-sunflower-oil  ]  [ or-safflower-and-or-sunflower-oil -> en:or-safflower-and-or-sunflower-oil  ]  [ safflower-and-or-sunflower-oil -> en:safflower-and-or-sunflower-oil  ]  [ and-or-sunflower-oil -> en:and-or-sunflower-oil  ]  [ or-sunflower-oil -> en:or-sunflower-oil  ]  [ sunflower-oil -> en:sunflower-oil  ]  [ oil -> en:oil  ]  [ molasses -> en:molasses  ]  [ coconut -> en:coconut  ]  [ almonds -> en:almonds  ]  [ sesame-seeds -> en:sesame-seeds  ]  [ seeds -> en:seeds  ]  [ sunflower-seeds -> en:sunflower-seeds  ]  [ seeds -> en:seeds  ]  [ cashews -> en:cashews  ]  [ walnuts -> en:walnuts  ]  [ honey -> en:honey  ]  [ salt -> en:salt  ]  [ natural-flavor -> en:natural-flavor  ]  [ flavor -> en:flavor  ]  [ organic-cardamom-seed -> en:organic-cardamom-seed  ]  [ cardamom-seed -> en:cardamom-seed  ]  [ seed -> en:seed  ]  [ organic-fennel-seed -> en:organic-fennel-seed  ]  [ fennel-seed -> en:fennel-seed  ]  [ seed -> en:seed  ]  [ organic-fenugreek-seed -> en:organic-fenugreek-seed  ]  [ fenugreek-seed -> en:fenugreek-seed  ]  [ seed -> en:seed  ]  [ organic-nutmeg -> en:organic-nutmeg  ]  [ nutmeg -> en:nutmeg  ] ',\n",
       "       ' [ whole-rolled-oats -> en:whole-rolled-oats  ]  [ rolled-oats -> en:rolled-oats  ]  [ oats -> en:oats  ]  [ milled-cane-sugar -> en:milled-cane-sugar  ]  [ cane-sugar -> en:cane-sugar  ]  [ sugar -> en:sugar  ]  [ vegetable-oil -> en:vegetable-oil  ]  [ oil -> en:oil  ]  [ canola-and-or-sunflower-oil -> en:canola-and-or-sunflower-oil  ]  [ and-or-sunflower-oil -> en:and-or-sunflower-oil  ]  [ or-sunflower-oil -> en:or-sunflower-oil  ]  [ sunflower-oil -> en:sunflower-oil  ]  [ oil -> en:oil  ]  [ molasses -> en:molasses  ]  [ maple-syrup -> en:maple-syrup  ]  [ syrup -> en:syrup  ]  [ almonds -> en:almonds  ]  [ honey -> en:honey  ]  [ natural-flavor -> en:natural-flavor  ]  [ flavor -> en:flavor  ]  [ salt -> en:salt  ]  [ organic-cardamom-seed -> en:organic-cardamom-seed  ]  [ cardamom-seed -> en:cardamom-seed  ]  [ seed -> en:seed  ]  [ organic-fennel-seed -> en:organic-fennel-seed  ]  [ fennel-seed -> en:fennel-seed  ]  [ seed -> en:seed  ]  [ organic-fenugreek-seed -> en:organic-fenugreek-seed  ]  [ fenugreek-seed -> en:fenugreek-seed  ]  [ seed -> en:seed  ]  [ organic-nutmeg -> en:organic-nutmeg  ]  [ nutmeg -> en:nutmeg  ] ',\n",
       "       ' [ egg-pasta -> en:egg-pasta  ]  [ pasta -> en:pasta  ]  [ refined-durum-semolina-wheat-flour -> en:refined-durum-semolina-wheat-flour  ]  [ durum-semolina-wheat-flour -> en:durum-semolina-wheat-flour  ]  [ semolina-wheat-flour -> en:semolina-wheat-flour  ]  [ wheat-flour -> en:wheat-flour  ]  [ flour -> en:flour  ]  [ pasteurized-eggs -> en:pasteurized-eggs  ]  [ eggs -> en:eggs  ]  [ dehydrated-tomato-and-spinach -> en:dehydrated-tomato-and-spinach  ]  [ tomato-and-spinach -> en:tomato-and-spinach  ]  [ and-spinach -> en:and-spinach  ]  [ spinach -> en:spinach  ]  [ filling -> en:filling  ]  [ grated-bread-sticks -> en:grated-bread-sticks  ]  [ bread-sticks -> en:bread-sticks  ]  [ sticks -> en:sticks  ]  [ parmesan-cheese -> en:parmesan-cheese  ]  [ cheese -> en:cheese  ]  [ soybean-oil -> en:soybean-oil  ]  [ oil -> en:oil  ]  [ whole-milk -> en:whole-milk  ]  [ milk -> en:milk  ]  [ egg-whites -> en:egg-whites  ]  [ whites -> en:whites  ]  [ salt -> en:salt  ]  [ pepper-and-nutmeg -> en:pepper-and-nutmeg  ]  [ and-nutmeg -> en:and-nutmeg  ]  [ nutmeg -> en:nutmeg  ] ',\n",
       "       ' [ wheat -> en:wheat  ]  [ rye -> en:rye  ]  [ triticale -> en:triticale  ]  [ oat -> en:oat  ]  [ corn -> en:corn  ]  [ barley -> en:barley  ]  [ soy-bean -> en:soy-bean  ]  [ bean -> en:bean  ]  [ brown-rice -> en:brown-rice  ]  [ rice -> en:rice  ]  [ and-millet-flours -> en:and-millet-flours  ]  [ millet-flours -> en:millet-flours  ]  [ flours -> en:flours  ]  [ flaxseed -> en:flaxseed  ]  [ buttermilk-powder -> en:buttermilk-powder  ]  [ powder -> en:powder  ]  [ non-aluminum-baking-powder -> en:non-aluminum-baking-powder  ]  [ aluminum-baking-powder -> en:aluminum-baking-powder  ]  [ baking-powder -> en:baking-powder  ]  [ powder -> en:powder  ]  [ baking-soda -> en:baking-soda  ]  [ soda -> en:soda  ]  [ sodium-phosphate -> en:e339iii  -> exists  -- ok  ]  [ cornstarch -> en:cornstarch  ]  [ and-monocalcium-phosphate -> en:and-monocalcium-phosphate  ]  [ monocalcium-phosphate -> en:e341i  -> exists  -- ok  ]  [ sea-salt -> en:sea-salt  ]  [ salt -> en:salt  ] ',\n",
       "       ' [ whole-rolled-oats -> en:whole-rolled-oats  ]  [ rolled-oats -> en:rolled-oats  ]  [ oats -> en:oats  ]  [ milled-cane-sugar -> en:milled-cane-sugar  ]  [ cane-sugar -> en:cane-sugar  ]  [ sugar -> en:sugar  ]  [ vegetable-oil -> en:vegetable-oil  ]  [ oil -> en:oil  ]  [ canola-and-or-safflower-and-or-sunflower-oil -> en:canola-and-or-safflower-and-or-sunflower-oil  ]  [ and-or-safflower-and-or-sunflower-oil -> en:and-or-safflower-and-or-sunflower-oil  ]  [ or-safflower-and-or-sunflower-oil -> en:or-safflower-and-or-sunflower-oil  ]  [ safflower-and-or-sunflower-oil -> en:safflower-and-or-sunflower-oil  ]  [ and-or-sunflower-oil -> en:and-or-sunflower-oil  ]  [ or-sunflower-oil -> en:or-sunflower-oil  ]  [ sunflower-oil -> en:sunflower-oil  ]  [ oil -> en:oil  ]  [ rice-flour -> en:rice-flour  ]  [ flour -> en:flour  ]  [ constarch -> en:constarch  ]  [ dried-cranberries -> en:dried-cranberries  ]  [ cranberries -> en:cranberries  ]  [ cranberries -> en:cranberries  ]  [ sugar -> en:sugar  ]  [ sunflower-oil -> en:sunflower-oil  ]  [ oil -> en:oil  ]  [ natural-flavor -> en:natural-flavor  ]  [ flavor -> en:flavor  ]  [ salt -> en:salt  ]  [ barley-malt-syrup -> en:barley-malt-syrup  ]  [ malt-syrup -> en:malt-syrup  ]  [ syrup -> en:syrup  ]  [ acai-berry -> en:acai-berry  ]  [ berry -> en:berry  ] ',\n",
       "       ' [ peanuts -> en:peanuts  ]  [ honey -> en:honey  ]  [ coating -> en:coating  ]  [ sucrose -> en:sucrose  ]  [ wheat-starch -> en:wheat-starch  ]  [ starch -> en:starch  ]  [ honey -> en:honey  ]  [ maltodextrin -> en:maltodextrin  ]  [ xanthan-gum -> en:e415  -> exists  -- ok  ]  [ non-gmo-canola-oil -> en:non-gmo-canola-oil  ]  [ gmo-canola-oil -> en:gmo-canola-oil  ]  [ canola-oil -> en:canola-oil  ]  [ oil -> en:oil  ]  [ sugar -> en:sugar  ]  [ salt -> en:salt  ] ',\n",
       "       ' [ organic-pumpkin-seeds -> en:organic-pumpkin-seeds  ]  [ pumpkin-seeds -> en:pumpkin-seeds  ]  [ seeds -> en:seeds  ] '],\n",
       "      dtype=object)"
      ]
     },
     "execution_count": 48,
     "metadata": {},
     "output_type": "execute_result"
    }
   ],
   "source": [
    "df.additives.unique()[:20]"
   ]
  },
  {
   "cell_type": "code",
   "execution_count": 49,
   "id": "eb1acf70",
   "metadata": {},
   "outputs": [],
   "source": [
    "df.drop(['additives', 'additives_n'], axis=1, inplace=True)"
   ]
  },
  {
   "cell_type": "code",
   "execution_count": 50,
   "id": "6d7e25c2",
   "metadata": {},
   "outputs": [
    {
     "name": "stdout",
     "output_type": "stream",
     "text": [
      "<class 'pandas.core.frame.DataFrame'>\n",
      "Int64Index: 108265 entries, 1 to 320768\n",
      "Data columns (total 18 columns):\n",
      " #   Column                   Non-Null Count   Dtype         \n",
      "---  ------                   --------------   -----         \n",
      " 0   url                      108265 non-null  object        \n",
      " 1   created_datetime         108264 non-null  datetime64[ns]\n",
      " 2   last_modified_datetime   108265 non-null  datetime64[ns]\n",
      " 3   product_name             106777 non-null  object        \n",
      " 4   brands                   105682 non-null  object        \n",
      " 5   countries_fr             108248 non-null  object        \n",
      " 6   ingredients_text         104211 non-null  object        \n",
      " 7   nutrition_grade_fr       108061 non-null  object        \n",
      " 8   energy_100g              108265 non-null  float64       \n",
      " 9   fat_100g                 108265 non-null  float64       \n",
      " 10  saturated-fat_100g       108265 non-null  float64       \n",
      " 11  carbohydrates_100g       108265 non-null  float64       \n",
      " 12  sugars_100g              108265 non-null  float64       \n",
      " 13  fiber_100g               108265 non-null  float64       \n",
      " 14  proteins_100g            108265 non-null  float64       \n",
      " 15  salt_100g                108265 non-null  float64       \n",
      " 16  sodium_100g              108265 non-null  float64       \n",
      " 17  nutrition-score-fr_100g  108061 non-null  float64       \n",
      "dtypes: datetime64[ns](2), float64(10), object(6)\n",
      "memory usage: 15.7+ MB\n"
     ]
    }
   ],
   "source": [
    "df.info()"
   ]
  },
  {
   "cell_type": "markdown",
   "id": "08ec7db7",
   "metadata": {},
   "source": [
    "<h1>3. Valeurs Manquantes et donnees dupliquées</h1><a class=\"anchor\" id=\"30\"></a>\n",
    "\n",
    "- Pour les colonnes product_name et brands, nous allons supprimer les rangs avec des valeurs manquantes.\n",
    "- Les pays et ingredients manquants seront remplaces par \"inconnu(s)\"\n",
    "- la valeur de created_datetime sera remplacé par celle de last_modified_datetime\n",
    "- enfin le nutrition score sera calculé avec un modèle de régression linéaire et le nutrition grade à partir du score"
   ]
  },
  {
   "cell_type": "markdown",
   "id": "0e3d2211",
   "metadata": {},
   "source": [
    "<h1>3.1 Produits dupliqués</h1><a class=\"anchor\" id=\"31\"></a>\n",
    "Pour filter les produits dupliqués, nous devons faire aussi vérifier qu'ils sont de la même marque. Certains produits peuvent avoir le même nom, mais être de qualités différentes. L'un des exemples commun sont les lardons et les jambons, étant plus gras dans les marques premiers prix."
   ]
  },
  {
   "cell_type": "code",
   "execution_count": 51,
   "id": "7f0d9082",
   "metadata": {},
   "outputs": [],
   "source": [
    "copy = df.copy()"
   ]
  },
  {
   "cell_type": "code",
   "execution_count": 52,
   "id": "1fa7469c",
   "metadata": {},
   "outputs": [],
   "source": [
    "copy = copy[copy.product_name.notna() & copy.brands.notna()].copy()"
   ]
  },
  {
   "cell_type": "code",
   "execution_count": 53,
   "id": "b1922623",
   "metadata": {},
   "outputs": [
    {
     "data": {
      "text/plain": [
       "(105462, 18)"
      ]
     },
     "execution_count": 53,
     "metadata": {},
     "output_type": "execute_result"
    }
   ],
   "source": [
    "copy.shape"
   ]
  },
  {
   "cell_type": "markdown",
   "id": "8a51da62",
   "metadata": {},
   "source": [
    "<h1>3.2 Valeurs Manquantes</h1><a class=\"anchor\" id=\"32\"></a>"
   ]
  },
  {
   "cell_type": "code",
   "execution_count": 54,
   "id": "0cdb758c",
   "metadata": {},
   "outputs": [],
   "source": [
    "copy['countries_fr'].fillna(value='Inconnu(s)', inplace=True)\n",
    "copy['ingredients_text'].fillna(value='Inconnu(s)', inplace=True)"
   ]
  },
  {
   "cell_type": "code",
   "execution_count": 55,
   "id": "70e8f382",
   "metadata": {},
   "outputs": [],
   "source": [
    "copy['created_datetime'].fillna(value=df['last_modified_datetime'], inplace=True)"
   ]
  },
  {
   "cell_type": "code",
   "execution_count": 56,
   "id": "dcdd5f14",
   "metadata": {},
   "outputs": [
    {
     "name": "stdout",
     "output_type": "stream",
     "text": [
      "<class 'pandas.core.frame.DataFrame'>\n",
      "Int64Index: 105462 entries, 2 to 320768\n",
      "Data columns (total 18 columns):\n",
      " #   Column                   Non-Null Count   Dtype         \n",
      "---  ------                   --------------   -----         \n",
      " 0   url                      105462 non-null  object        \n",
      " 1   created_datetime         105462 non-null  datetime64[ns]\n",
      " 2   last_modified_datetime   105462 non-null  datetime64[ns]\n",
      " 3   product_name             105462 non-null  object        \n",
      " 4   brands                   105462 non-null  object        \n",
      " 5   countries_fr             105462 non-null  object        \n",
      " 6   ingredients_text         105462 non-null  object        \n",
      " 7   nutrition_grade_fr       105259 non-null  object        \n",
      " 8   energy_100g              105462 non-null  float64       \n",
      " 9   fat_100g                 105462 non-null  float64       \n",
      " 10  saturated-fat_100g       105462 non-null  float64       \n",
      " 11  carbohydrates_100g       105462 non-null  float64       \n",
      " 12  sugars_100g              105462 non-null  float64       \n",
      " 13  fiber_100g               105462 non-null  float64       \n",
      " 14  proteins_100g            105462 non-null  float64       \n",
      " 15  salt_100g                105462 non-null  float64       \n",
      " 16  sodium_100g              105462 non-null  float64       \n",
      " 17  nutrition-score-fr_100g  105259 non-null  float64       \n",
      "dtypes: datetime64[ns](2), float64(10), object(6)\n",
      "memory usage: 15.3+ MB\n"
     ]
    }
   ],
   "source": [
    "copy.info()"
   ]
  },
  {
   "cell_type": "markdown",
   "id": "94765a97",
   "metadata": {},
   "source": [
    "<h1>3.3 Nutriscore</h1><a class=\"anchor\" id=\"33\"></a>\n",
    "\n",
    "<h1>3.3.1 Calcul du nutriscore</h1><a class=\"anchor\" id=\"331\"></a>"
   ]
  },
  {
   "cell_type": "code",
   "execution_count": 57,
   "id": "d70e6a84",
   "metadata": {},
   "outputs": [
    {
     "data": {
      "text/plain": [
       "energy_100g                0.621217\n",
       "fat_100g                   0.590484\n",
       "saturated-fat_100g         0.662991\n",
       "carbohydrates_100g         0.224434\n",
       "sugars_100g                0.487890\n",
       "fiber_100g                -0.129037\n",
       "proteins_100g              0.066394\n",
       "salt_100g                  0.097997\n",
       "sodium_100g                0.097998\n",
       "nutrition-score-fr_100g    1.000000\n",
       "Name: nutrition-score-fr_100g, dtype: float64"
      ]
     },
     "execution_count": 57,
     "metadata": {},
     "output_type": "execute_result"
    }
   ],
   "source": [
    "corr = df.corr()\n",
    "corr['nutrition-score-fr_100g']"
   ]
  },
  {
   "cell_type": "code",
   "execution_count": 63,
   "id": "ad008984",
   "metadata": {},
   "outputs": [],
   "source": [
    "from sklearn.model_selection import train_test_split\n",
    "from sklearn.linear_model import LinearRegression\n",
    "from sklearn.metrics import mean_absolute_error as mae\n",
    "\n",
    "train = copy[copy['nutrition-score-fr_100g'].notna()].copy()\n",
    "test = copy[copy['nutrition-score-fr_100g'].isna()].copy()\n",
    "\n",
    "train, val = train_test_split(train, test_size=0.2, random_state=42)\n",
    "\n",
    "X_col = ['energy_100g', 'saturated-fat_100g', 'sugars_100g', 'proteins_100g', 'fiber_100g', 'salt_100g']\n",
    "\n",
    "X_train = train[X_col].copy()\n",
    "X_test = test[X_col].copy()\n",
    "X_val = val[X_col].copy()\n",
    "\n",
    "y_train = train['nutrition-score-fr_100g']\n",
    "y_val = val['nutrition-score-fr_100g']\n",
    "y_test = test['nutrition-score-fr_100g']"
   ]
  },
  {
   "cell_type": "code",
   "execution_count": 69,
   "id": "c19ab6ae",
   "metadata": {},
   "outputs": [
    {
     "name": "stdout",
     "output_type": "stream",
     "text": [
      "The mean absolute error on the validation split is: 3.604\n"
     ]
    }
   ],
   "source": [
    "model = LinearRegression()\n",
    "\n",
    "model.fit(X_train, y_train)\n",
    "y_pred = model.predict(X_val)\n",
    "\n",
    "mae_score = mae(y_val, y_pred)\n",
    "mae_score = round(mae_score, 3)\n",
    "\n",
    "print(f'The mean absolute error on the validation split is: {mae_score}')"
   ]
  },
  {
   "cell_type": "code",
   "execution_count": 70,
   "id": "f594246e",
   "metadata": {},
   "outputs": [
    {
     "name": "stdout",
     "output_type": "stream",
     "text": [
      "35.0\n",
      "-14.0\n"
     ]
    }
   ],
   "source": [
    "print(df['nutrition-score-fr_100g'].max())\n",
    "print(df['nutrition-score-fr_100g'].min())"
   ]
  },
  {
   "cell_type": "markdown",
   "id": "6bbf58dc",
   "metadata": {},
   "source": [
    "Les valeurs du nutriscore sont comprises entre -14 et 35. Nous allons utiliser ces limites pour comme valeurs limites de nos predictions"
   ]
  },
  {
   "cell_type": "code",
   "execution_count": 71,
   "id": "4dbcd7e9",
   "metadata": {},
   "outputs": [
    {
     "name": "stdout",
     "output_type": "stream",
     "text": [
      "21052\n",
      "21052\n"
     ]
    }
   ],
   "source": [
    "y_pred_lim = [-14.0 if y < -14 else y for y in y_pred ]\n",
    "y_pred_lim = [35.0 if y > 35 else y for y in y_pred_lim]"
   ]
  },
  {
   "cell_type": "code",
   "execution_count": 72,
   "id": "35197d2b",
   "metadata": {},
   "outputs": [
    {
     "name": "stdout",
     "output_type": "stream",
     "text": [
      "the mean absolute error after data correction is: 3.58\n"
     ]
    }
   ],
   "source": [
    "new_mae = mae(y_val, y_pred_lim)\n",
    "new_mae = round(new_mae, 3)\n",
    "\n",
    "print(f'the mean absolute error after data correction is: {new_mae}')"
   ]
  },
  {
   "cell_type": "markdown",
   "id": "4f7676e3",
   "metadata": {},
   "source": [
    "<h1>3.3.2 Visualization des resultat de notre modele</h1><a class=\"anchor\" id=\"332\"></a>"
   ]
  },
  {
   "cell_type": "code",
   "execution_count": 75,
   "id": "bdc7b1f2",
   "metadata": {},
   "outputs": [
    {
     "data": {
      "image/png": "[encoded data removed]",
      "text/plain": [
       "<Figure size 864x432 with 2 Axes>"
      ]
     },
     "metadata": {},
     "output_type": "display_data"
    }
   ],
   "source": [
    "fig, ax = plt.subplots(1,2,figsize=(12,6), facecolor=\"#eaeaf2\", sharex=True, sharey=True)\n",
    "\n",
    "sns.scatterplot(ax=ax[0], x=y_val, y=y_pred)\n",
    "sns.lineplot(ax=ax[0], x=[-10,30], y=[-10,30], color='coral', linestyle='--')\n",
    "\n",
    "sns.scatterplot(ax=ax[1], x=y_val, y=y_pred_lim)\n",
    "sns.lineplot(ax=ax[1], x=[-10,30], y=[-10,30], color='coral', linestyle='--');"
   ]
  },
  {
   "cell_type": "code",
   "execution_count": 76,
   "id": "bfce00b8",
   "metadata": {},
   "outputs": [],
   "source": [
    "preds = model.predict(X_test)"
   ]
  },
  {
   "cell_type": "code",
   "execution_count": 78,
   "id": "1d3b74e7",
   "metadata": {},
   "outputs": [],
   "source": [
    "preds = [-14.0 if y < -14 else 0 for y in preds]\n",
    "preds = [35 if y > 35 else 0 for y in preds]"
   ]
  },
  {
   "cell_type": "code",
   "execution_count": 79,
   "id": "5477a64f",
   "metadata": {},
   "outputs": [],
   "source": [
    "test['nutrition-score-fr_100g'] = preds\n",
    "test['nutrition-score-fr_100g'] = round(test['nutrition-score-fr_100g'], 0)"
   ]
  },
  {
   "cell_type": "code",
   "execution_count": 80,
   "id": "af274921",
   "metadata": {},
   "outputs": [],
   "source": [
    "final = pd.concat([train, val, test], axis=0)"
   ]
  },
  {
   "cell_type": "code",
   "execution_count": 81,
   "id": "abd5455d",
   "metadata": {},
   "outputs": [
    {
     "data": {
      "text/plain": [
       "(105462, 18)"
      ]
     },
     "execution_count": 81,
     "metadata": {},
     "output_type": "execute_result"
    }
   ],
   "source": [
    "final.shape"
   ]
  },
  {
   "cell_type": "code",
   "execution_count": 82,
   "id": "3ca7e6bb",
   "metadata": {},
   "outputs": [
    {
     "name": "stdout",
     "output_type": "stream",
     "text": [
      "<class 'pandas.core.frame.DataFrame'>\n",
      "Int64Index: 105462 entries, 14735 to 320529\n",
      "Data columns (total 18 columns):\n",
      " #   Column                   Non-Null Count   Dtype         \n",
      "---  ------                   --------------   -----         \n",
      " 0   url                      105462 non-null  object        \n",
      " 1   created_datetime         105462 non-null  datetime64[ns]\n",
      " 2   last_modified_datetime   105462 non-null  datetime64[ns]\n",
      " 3   product_name             105462 non-null  object        \n",
      " 4   brands                   105462 non-null  object        \n",
      " 5   countries_fr             105462 non-null  object        \n",
      " 6   ingredients_text         105462 non-null  object        \n",
      " 7   nutrition_grade_fr       105259 non-null  object        \n",
      " 8   energy_100g              105462 non-null  float64       \n",
      " 9   fat_100g                 105462 non-null  float64       \n",
      " 10  saturated-fat_100g       105462 non-null  float64       \n",
      " 11  carbohydrates_100g       105462 non-null  float64       \n",
      " 12  sugars_100g              105462 non-null  float64       \n",
      " 13  fiber_100g               105462 non-null  float64       \n",
      " 14  proteins_100g            105462 non-null  float64       \n",
      " 15  salt_100g                105462 non-null  float64       \n",
      " 16  sodium_100g              105462 non-null  float64       \n",
      " 17  nutrition-score-fr_100g  105462 non-null  float64       \n",
      "dtypes: datetime64[ns](2), float64(10), object(6)\n",
      "memory usage: 15.3+ MB\n"
     ]
    }
   ],
   "source": [
    "final.info()"
   ]
  },
  {
   "cell_type": "code",
   "execution_count": 83,
   "id": "ea36cf9e",
   "metadata": {},
   "outputs": [],
   "source": [
    "nutriscore_notna = final[final['nutrition_grade_fr'].notna()].copy()\n",
    "nutriscore_isna = final[final['nutrition_grade_fr'].isna()].copy()"
   ]
  },
  {
   "cell_type": "code",
   "execution_count": 84,
   "id": "7fbc9482",
   "metadata": {},
   "outputs": [
    {
     "data": {
      "text/html": [
       "<div>\n",
       "<style scoped>\n",
       "    .dataframe tbody tr th:only-of-type {\n",
       "        vertical-align: middle;\n",
       "    }\n",
       "\n",
       "    .dataframe tbody tr th {\n",
       "        vertical-align: top;\n",
       "    }\n",
       "\n",
       "    .dataframe thead th {\n",
       "        text-align: right;\n",
       "    }\n",
       "</style>\n",
       "<table border=\"1\" class=\"dataframe\">\n",
       "  <thead>\n",
       "    <tr style=\"text-align: right;\">\n",
       "      <th></th>\n",
       "      <th>url</th>\n",
       "      <th>created_datetime</th>\n",
       "      <th>last_modified_datetime</th>\n",
       "      <th>product_name</th>\n",
       "      <th>brands</th>\n",
       "      <th>countries_fr</th>\n",
       "      <th>ingredients_text</th>\n",
       "      <th>nutrition_grade_fr</th>\n",
       "      <th>energy_100g</th>\n",
       "      <th>fat_100g</th>\n",
       "      <th>saturated-fat_100g</th>\n",
       "      <th>carbohydrates_100g</th>\n",
       "      <th>sugars_100g</th>\n",
       "      <th>fiber_100g</th>\n",
       "      <th>proteins_100g</th>\n",
       "      <th>salt_100g</th>\n",
       "      <th>sodium_100g</th>\n",
       "      <th>nutrition-score-fr_100g</th>\n",
       "    </tr>\n",
       "  </thead>\n",
       "  <tbody>\n",
       "    <tr>\n",
       "      <th>71910</th>\n",
       "      <td>http://world-fr.openfoodfacts.org/produit/0070...</td>\n",
       "      <td>2015-09-01</td>\n",
       "      <td>2017-03-01</td>\n",
       "      <td>Cup Noodles Chicken Flavor</td>\n",
       "      <td>Nissin,  Nissin Foods(Usa) Co.  Inc.</td>\n",
       "      <td>États-Unis</td>\n",
       "      <td>INGREDIENTS: ENRICHED FLOUR (_WHEAT_ FLOUR, NI...</td>\n",
       "      <td>NaN</td>\n",
       "      <td>1830.0</td>\n",
       "      <td>17.2</td>\n",
       "      <td>7.81</td>\n",
       "      <td>62.50</td>\n",
       "      <td>3.12</td>\n",
       "      <td>3.12</td>\n",
       "      <td>10.90</td>\n",
       "      <td>5.680</td>\n",
       "      <td>2.230000</td>\n",
       "      <td>0.0</td>\n",
       "    </tr>\n",
       "    <tr>\n",
       "      <th>137507</th>\n",
       "      <td>http://world-fr.openfoodfacts.org/produit/0735...</td>\n",
       "      <td>2017-02-01</td>\n",
       "      <td>2017-04-01</td>\n",
       "      <td>Instant Noodles Soup - Vegetable Flavor</td>\n",
       "      <td>Tradition</td>\n",
       "      <td>France</td>\n",
       "      <td>Farine de _blé_ enrichie (farine de _blé_, mon...</td>\n",
       "      <td>NaN</td>\n",
       "      <td>1866.0</td>\n",
       "      <td>20.0</td>\n",
       "      <td>9.23</td>\n",
       "      <td>55.38</td>\n",
       "      <td>3.08</td>\n",
       "      <td>3.10</td>\n",
       "      <td>9.23</td>\n",
       "      <td>4.318</td>\n",
       "      <td>1.700000</td>\n",
       "      <td>0.0</td>\n",
       "    </tr>\n",
       "    <tr>\n",
       "      <th>175928</th>\n",
       "      <td>http://world-fr.openfoodfacts.org/produit/2000...</td>\n",
       "      <td>2015-10-01</td>\n",
       "      <td>2015-10-01</td>\n",
       "      <td>Bouillon cube légumes sans sel</td>\n",
       "      <td>Jardin Bio',Léa Nature</td>\n",
       "      <td>France</td>\n",
       "      <td>Beurre de karité, légumes 20 % (tomates, céler...</td>\n",
       "      <td>NaN</td>\n",
       "      <td>2151.0</td>\n",
       "      <td>31.1</td>\n",
       "      <td>14.40</td>\n",
       "      <td>49.00</td>\n",
       "      <td>21.00</td>\n",
       "      <td>5.80</td>\n",
       "      <td>6.60</td>\n",
       "      <td>0.300</td>\n",
       "      <td>0.118110</td>\n",
       "      <td>0.0</td>\n",
       "    </tr>\n",
       "    <tr>\n",
       "      <th>184592</th>\n",
       "      <td>http://world-fr.openfoodfacts.org/produit/2601...</td>\n",
       "      <td>2014-06-01</td>\n",
       "      <td>2015-10-01</td>\n",
       "      <td>Purée de Pommes de Terre en Flocons</td>\n",
       "      <td>Albona</td>\n",
       "      <td>France</td>\n",
       "      <td>Inconnu(s)</td>\n",
       "      <td>NaN</td>\n",
       "      <td>1430.0</td>\n",
       "      <td>0.5</td>\n",
       "      <td>0.40</td>\n",
       "      <td>76.00</td>\n",
       "      <td>0.90</td>\n",
       "      <td>6.50</td>\n",
       "      <td>7.50</td>\n",
       "      <td>0.127</td>\n",
       "      <td>0.050000</td>\n",
       "      <td>0.0</td>\n",
       "    </tr>\n",
       "    <tr>\n",
       "      <th>187167</th>\n",
       "      <td>http://world-fr.openfoodfacts.org/produit/3011...</td>\n",
       "      <td>2014-04-01</td>\n",
       "      <td>2017-01-01</td>\n",
       "      <td>Chorba marocaine au mouton (halal)</td>\n",
       "      <td>Knorr,Unilever</td>\n",
       "      <td>France</td>\n",
       "      <td>légumes : 34% (haricot brun, tomate, oignon, c...</td>\n",
       "      <td>NaN</td>\n",
       "      <td>142.0</td>\n",
       "      <td>0.5</td>\n",
       "      <td>0.20</td>\n",
       "      <td>5.50</td>\n",
       "      <td>1.40</td>\n",
       "      <td>0.60</td>\n",
       "      <td>1.60</td>\n",
       "      <td>0.750</td>\n",
       "      <td>0.295276</td>\n",
       "      <td>0.0</td>\n",
       "    </tr>\n",
       "  </tbody>\n",
       "</table>\n",
       "</div>"
      ],
      "text/plain": [
       "                                                      url created_datetime  \\\n",
       "71910   http://world-fr.openfoodfacts.org/produit/0070...       2015-09-01   \n",
       "137507  http://world-fr.openfoodfacts.org/produit/0735...       2017-02-01   \n",
       "175928  http://world-fr.openfoodfacts.org/produit/2000...       2015-10-01   \n",
       "184592  http://world-fr.openfoodfacts.org/produit/2601...       2014-06-01   \n",
       "187167  http://world-fr.openfoodfacts.org/produit/3011...       2014-04-01   \n",
       "\n",
       "       last_modified_datetime                             product_name  \\\n",
       "71910              2017-03-01               Cup Noodles Chicken Flavor   \n",
       "137507             2017-04-01  Instant Noodles Soup - Vegetable Flavor   \n",
       "175928             2015-10-01           Bouillon cube légumes sans sel   \n",
       "184592             2015-10-01      Purée de Pommes de Terre en Flocons   \n",
       "187167             2017-01-01       Chorba marocaine au mouton (halal)   \n",
       "\n",
       "                                      brands countries_fr  \\\n",
       "71910   Nissin,  Nissin Foods(Usa) Co.  Inc.   États-Unis   \n",
       "137507                             Tradition       France   \n",
       "175928                Jardin Bio',Léa Nature       France   \n",
       "184592                                Albona       France   \n",
       "187167                        Knorr,Unilever       France   \n",
       "\n",
       "                                         ingredients_text nutrition_grade_fr  \\\n",
       "71910   INGREDIENTS: ENRICHED FLOUR (_WHEAT_ FLOUR, NI...                NaN   \n",
       "137507  Farine de _blé_ enrichie (farine de _blé_, mon...                NaN   \n",
       "175928  Beurre de karité, légumes 20 % (tomates, céler...                NaN   \n",
       "184592                                         Inconnu(s)                NaN   \n",
       "187167  légumes : 34% (haricot brun, tomate, oignon, c...                NaN   \n",
       "\n",
       "        energy_100g  fat_100g  saturated-fat_100g  carbohydrates_100g  \\\n",
       "71910        1830.0      17.2                7.81               62.50   \n",
       "137507       1866.0      20.0                9.23               55.38   \n",
       "175928       2151.0      31.1               14.40               49.00   \n",
       "184592       1430.0       0.5                0.40               76.00   \n",
       "187167        142.0       0.5                0.20                5.50   \n",
       "\n",
       "        sugars_100g  fiber_100g  proteins_100g  salt_100g  sodium_100g  \\\n",
       "71910          3.12        3.12          10.90      5.680     2.230000   \n",
       "137507         3.08        3.10           9.23      4.318     1.700000   \n",
       "175928        21.00        5.80           6.60      0.300     0.118110   \n",
       "184592         0.90        6.50           7.50      0.127     0.050000   \n",
       "187167         1.40        0.60           1.60      0.750     0.295276   \n",
       "\n",
       "        nutrition-score-fr_100g  \n",
       "71910                       0.0  \n",
       "137507                      0.0  \n",
       "175928                      0.0  \n",
       "184592                      0.0  \n",
       "187167                      0.0  "
      ]
     },
     "execution_count": 84,
     "metadata": {},
     "output_type": "execute_result"
    }
   ],
   "source": [
    "nutriscore_isna.head()"
   ]
  },
  {
   "cell_type": "markdown",
   "id": "128dd5eb",
   "metadata": {},
   "source": [
    "<h1>3.3.3 Calcul des resultats du nutrigrade</h1><a class=\"anchor\" id=\"333\"></a>"
   ]
  },
  {
   "cell_type": "code",
   "execution_count": 85,
   "id": "6e471f33",
   "metadata": {},
   "outputs": [
    {
     "name": "stderr",
     "output_type": "stream",
     "text": [
      "C:\\Users\\petit\\AppData\\Local\\Temp\\ipykernel_22852\\1662681086.py:5: SettingWithCopyWarning: \n",
      "A value is trying to be set on a copy of a slice from a DataFrame\n",
      "\n",
      "See the caveats in the documentation: https://pandas.pydata.org/pandas-docs/stable/user_guide/indexing.html#returning-a-view-versus-a-copy\n",
      "  nutriscore_isna['nutrition_grade_fr'].loc[i] = 'b'\n"
     ]
    }
   ],
   "source": [
    "for i, row in nutriscore_isna.iterrows():\n",
    "    if row['nutrition-score-fr_100g'] < 0:\n",
    "        nutriscore_isna['nutrition_grade_fr'].loc[i] = 'a'\n",
    "    elif row['nutrition-score-fr_100g'] >= 0 and row['nutrition-score-fr_100g'] < 4:\n",
    "        nutriscore_isna['nutrition_grade_fr'].loc[i] = 'b'\n",
    "    elif row['nutrition-score-fr_100g'] >= 4 and row['nutrition-score-fr_100g'] < 10:\n",
    "        nutriscore_isna['nutrition_grade_fr'].loc[i] = 'c'\n",
    "    elif row['nutrition-score-fr_100g'] >= 10 and row['nutrition-score-fr_100g'] < 16:\n",
    "        nutriscore_isna['nutrition_grade_fr'].loc[i] = 'd'\n",
    "    else:\n",
    "        nutriscore_isna['nutrition_grade_fr'].loc[i] = 'e'"
   ]
  },
  {
   "cell_type": "code",
   "execution_count": 86,
   "id": "6797dcf8",
   "metadata": {},
   "outputs": [
    {
     "name": "stdout",
     "output_type": "stream",
     "text": [
      "<class 'pandas.core.frame.DataFrame'>\n",
      "Int64Index: 203 entries, 71910 to 320529\n",
      "Data columns (total 18 columns):\n",
      " #   Column                   Non-Null Count  Dtype         \n",
      "---  ------                   --------------  -----         \n",
      " 0   url                      203 non-null    object        \n",
      " 1   created_datetime         203 non-null    datetime64[ns]\n",
      " 2   last_modified_datetime   203 non-null    datetime64[ns]\n",
      " 3   product_name             203 non-null    object        \n",
      " 4   brands                   203 non-null    object        \n",
      " 5   countries_fr             203 non-null    object        \n",
      " 6   ingredients_text         203 non-null    object        \n",
      " 7   nutrition_grade_fr       203 non-null    object        \n",
      " 8   energy_100g              203 non-null    float64       \n",
      " 9   fat_100g                 203 non-null    float64       \n",
      " 10  saturated-fat_100g       203 non-null    float64       \n",
      " 11  carbohydrates_100g       203 non-null    float64       \n",
      " 12  sugars_100g              203 non-null    float64       \n",
      " 13  fiber_100g               203 non-null    float64       \n",
      " 14  proteins_100g            203 non-null    float64       \n",
      " 15  salt_100g                203 non-null    float64       \n",
      " 16  sodium_100g              203 non-null    float64       \n",
      " 17  nutrition-score-fr_100g  203 non-null    float64       \n",
      "dtypes: datetime64[ns](2), float64(10), object(6)\n",
      "memory usage: 38.2+ KB\n"
     ]
    }
   ],
   "source": [
    "nutriscore_isna.info()"
   ]
  },
  {
   "cell_type": "code",
   "execution_count": 87,
   "id": "5682b53b",
   "metadata": {},
   "outputs": [],
   "source": [
    "final = pd.concat([nutriscore_notna, nutriscore_isna], axis=0)"
   ]
  },
  {
   "cell_type": "code",
   "execution_count": 88,
   "id": "3c0f8667",
   "metadata": {},
   "outputs": [
    {
     "data": {
      "text/plain": [
       "(105462, 18)"
      ]
     },
     "execution_count": 88,
     "metadata": {},
     "output_type": "execute_result"
    }
   ],
   "source": [
    "final.shape"
   ]
  },
  {
   "cell_type": "code",
   "execution_count": 89,
   "id": "8a044a33",
   "metadata": {},
   "outputs": [
    {
     "name": "stdout",
     "output_type": "stream",
     "text": [
      "<class 'pandas.core.frame.DataFrame'>\n",
      "Int64Index: 105462 entries, 14735 to 320529\n",
      "Data columns (total 18 columns):\n",
      " #   Column                   Non-Null Count   Dtype         \n",
      "---  ------                   --------------   -----         \n",
      " 0   url                      105462 non-null  object        \n",
      " 1   created_datetime         105462 non-null  datetime64[ns]\n",
      " 2   last_modified_datetime   105462 non-null  datetime64[ns]\n",
      " 3   product_name             105462 non-null  object        \n",
      " 4   brands                   105462 non-null  object        \n",
      " 5   countries_fr             105462 non-null  object        \n",
      " 6   ingredients_text         105462 non-null  object        \n",
      " 7   nutrition_grade_fr       105462 non-null  object        \n",
      " 8   energy_100g              105462 non-null  float64       \n",
      " 9   fat_100g                 105462 non-null  float64       \n",
      " 10  saturated-fat_100g       105462 non-null  float64       \n",
      " 11  carbohydrates_100g       105462 non-null  float64       \n",
      " 12  sugars_100g              105462 non-null  float64       \n",
      " 13  fiber_100g               105462 non-null  float64       \n",
      " 14  proteins_100g            105462 non-null  float64       \n",
      " 15  salt_100g                105462 non-null  float64       \n",
      " 16  sodium_100g              105462 non-null  float64       \n",
      " 17  nutrition-score-fr_100g  105462 non-null  float64       \n",
      "dtypes: datetime64[ns](2), float64(10), object(6)\n",
      "memory usage: 15.3+ MB\n"
     ]
    }
   ],
   "source": [
    "final.info()"
   ]
  },
  {
   "cell_type": "code",
   "execution_count": 90,
   "id": "f10d7571",
   "metadata": {},
   "outputs": [
    {
     "data": {
      "text/html": [
       "<div>\n",
       "<style scoped>\n",
       "    .dataframe tbody tr th:only-of-type {\n",
       "        vertical-align: middle;\n",
       "    }\n",
       "\n",
       "    .dataframe tbody tr th {\n",
       "        vertical-align: top;\n",
       "    }\n",
       "\n",
       "    .dataframe thead th {\n",
       "        text-align: right;\n",
       "    }\n",
       "</style>\n",
       "<table border=\"1\" class=\"dataframe\">\n",
       "  <thead>\n",
       "    <tr style=\"text-align: right;\">\n",
       "      <th></th>\n",
       "      <th>url</th>\n",
       "      <th>created_datetime</th>\n",
       "      <th>last_modified_datetime</th>\n",
       "      <th>product_name</th>\n",
       "      <th>brands</th>\n",
       "      <th>countries_fr</th>\n",
       "      <th>ingredients_text</th>\n",
       "      <th>nutrition_grade_fr</th>\n",
       "      <th>energy_100g</th>\n",
       "      <th>fat_100g</th>\n",
       "      <th>saturated-fat_100g</th>\n",
       "      <th>carbohydrates_100g</th>\n",
       "      <th>sugars_100g</th>\n",
       "      <th>fiber_100g</th>\n",
       "      <th>proteins_100g</th>\n",
       "      <th>salt_100g</th>\n",
       "      <th>sodium_100g</th>\n",
       "      <th>nutrition-score-fr_100g</th>\n",
       "    </tr>\n",
       "  </thead>\n",
       "  <tbody>\n",
       "    <tr>\n",
       "      <th>29055</th>\n",
       "      <td>http://world-fr.openfoodfacts.org/produit/0033...</td>\n",
       "      <td>2017-03-01</td>\n",
       "      <td>2017-03-01</td>\n",
       "      <td>Whole Grain Bread</td>\n",
       "      <td>Natural Ovens Bakery</td>\n",
       "      <td>États-Unis</td>\n",
       "      <td>Whole wheat flour, water, wheat gluten, rolled...</td>\n",
       "      <td>a</td>\n",
       "      <td>1046.0</td>\n",
       "      <td>5.56</td>\n",
       "      <td>0.00</td>\n",
       "      <td>41.67</td>\n",
       "      <td>2.78</td>\n",
       "      <td>8.3</td>\n",
       "      <td>11.11</td>\n",
       "      <td>0.74168</td>\n",
       "      <td>0.292000</td>\n",
       "      <td>-4.0</td>\n",
       "    </tr>\n",
       "    <tr>\n",
       "      <th>117841</th>\n",
       "      <td>http://world-fr.openfoodfacts.org/produit/0609...</td>\n",
       "      <td>2017-03-01</td>\n",
       "      <td>2017-03-01</td>\n",
       "      <td>Pears</td>\n",
       "      <td>Nutty &amp; Fruity</td>\n",
       "      <td>États-Unis</td>\n",
       "      <td>Pears.</td>\n",
       "      <td>c</td>\n",
       "      <td>1046.0</td>\n",
       "      <td>0.00</td>\n",
       "      <td>0.00</td>\n",
       "      <td>62.50</td>\n",
       "      <td>27.50</td>\n",
       "      <td>20.0</td>\n",
       "      <td>2.50</td>\n",
       "      <td>0.00000</td>\n",
       "      <td>0.000000</td>\n",
       "      <td>3.0</td>\n",
       "    </tr>\n",
       "    <tr>\n",
       "      <th>5262</th>\n",
       "      <td>http://world-fr.openfoodfacts.org/produit/0011...</td>\n",
       "      <td>2017-03-01</td>\n",
       "      <td>2017-03-01</td>\n",
       "      <td>Cut Sweet Potatoes In Light Syrup</td>\n",
       "      <td>Roundy's</td>\n",
       "      <td>États-Unis</td>\n",
       "      <td>Sweet potatoes, water, corn syrup, sugar.</td>\n",
       "      <td>c</td>\n",
       "      <td>368.0</td>\n",
       "      <td>0.00</td>\n",
       "      <td>0.00</td>\n",
       "      <td>21.25</td>\n",
       "      <td>11.88</td>\n",
       "      <td>0.6</td>\n",
       "      <td>0.00</td>\n",
       "      <td>0.03048</td>\n",
       "      <td>0.012000</td>\n",
       "      <td>3.0</td>\n",
       "    </tr>\n",
       "    <tr>\n",
       "      <th>48412</th>\n",
       "      <td>http://world-fr.openfoodfacts.org/produit/0041...</td>\n",
       "      <td>2017-03-01</td>\n",
       "      <td>2017-03-01</td>\n",
       "      <td>Premium Ice Cream</td>\n",
       "      <td>Weis</td>\n",
       "      <td>États-Unis</td>\n",
       "      <td>Nonfat milk, cream, sugar, peanut butter sauce...</td>\n",
       "      <td>d</td>\n",
       "      <td>1151.0</td>\n",
       "      <td>17.39</td>\n",
       "      <td>7.25</td>\n",
       "      <td>26.09</td>\n",
       "      <td>21.74</td>\n",
       "      <td>1.4</td>\n",
       "      <td>5.80</td>\n",
       "      <td>0.42418</td>\n",
       "      <td>0.167000</td>\n",
       "      <td>14.0</td>\n",
       "    </tr>\n",
       "    <tr>\n",
       "      <th>128016</th>\n",
       "      <td>http://world-fr.openfoodfacts.org/produit/0702...</td>\n",
       "      <td>2017-03-01</td>\n",
       "      <td>2017-03-01</td>\n",
       "      <td>Hacienda, Authentic Yellow Corn Tortillas</td>\n",
       "      <td>Hacienda Mexican Foods</td>\n",
       "      <td>États-Unis</td>\n",
       "      <td>Stone ground corn, water, contains less than 2...</td>\n",
       "      <td>a</td>\n",
       "      <td>920.0</td>\n",
       "      <td>3.00</td>\n",
       "      <td>0.00</td>\n",
       "      <td>44.00</td>\n",
       "      <td>0.00</td>\n",
       "      <td>4.0</td>\n",
       "      <td>4.00</td>\n",
       "      <td>0.05080</td>\n",
       "      <td>0.020000</td>\n",
       "      <td>-5.0</td>\n",
       "    </tr>\n",
       "    <tr>\n",
       "      <th>...</th>\n",
       "      <td>...</td>\n",
       "      <td>...</td>\n",
       "      <td>...</td>\n",
       "      <td>...</td>\n",
       "      <td>...</td>\n",
       "      <td>...</td>\n",
       "      <td>...</td>\n",
       "      <td>...</td>\n",
       "      <td>...</td>\n",
       "      <td>...</td>\n",
       "      <td>...</td>\n",
       "      <td>...</td>\n",
       "      <td>...</td>\n",
       "      <td>...</td>\n",
       "      <td>...</td>\n",
       "      <td>...</td>\n",
       "      <td>...</td>\n",
       "      <td>...</td>\n",
       "    </tr>\n",
       "    <tr>\n",
       "      <th>28312</th>\n",
       "      <td>http://world-fr.openfoodfacts.org/produit/0032...</td>\n",
       "      <td>2017-03-01</td>\n",
       "      <td>2017-03-01</td>\n",
       "      <td>Pocket Pita Breads</td>\n",
       "      <td>Whole Foods Market,  Mjay's Specialty Baked Fo...</td>\n",
       "      <td>États-Unis</td>\n",
       "      <td>Enriched flour, [corn starch, niacin, (b-compl...</td>\n",
       "      <td>b</td>\n",
       "      <td>1046.0</td>\n",
       "      <td>0.00</td>\n",
       "      <td>0.00</td>\n",
       "      <td>53.57</td>\n",
       "      <td>3.57</td>\n",
       "      <td>0.0</td>\n",
       "      <td>10.71</td>\n",
       "      <td>1.04394</td>\n",
       "      <td>0.411000</td>\n",
       "      <td>2.0</td>\n",
       "    </tr>\n",
       "    <tr>\n",
       "      <th>23470</th>\n",
       "      <td>http://world-fr.openfoodfacts.org/produit/0027...</td>\n",
       "      <td>2017-03-01</td>\n",
       "      <td>2017-03-01</td>\n",
       "      <td>Apple Crisp</td>\n",
       "      <td>Lyman Orchards</td>\n",
       "      <td>États-Unis</td>\n",
       "      <td>Filling: apples, sugar, modified corn starch, ...</td>\n",
       "      <td>c</td>\n",
       "      <td>828.0</td>\n",
       "      <td>4.96</td>\n",
       "      <td>1.65</td>\n",
       "      <td>37.19</td>\n",
       "      <td>26.45</td>\n",
       "      <td>2.5</td>\n",
       "      <td>1.65</td>\n",
       "      <td>0.21082</td>\n",
       "      <td>0.083000</td>\n",
       "      <td>4.0</td>\n",
       "    </tr>\n",
       "    <tr>\n",
       "      <th>23162</th>\n",
       "      <td>http://world-fr.openfoodfacts.org/produit/0027...</td>\n",
       "      <td>2017-03-01</td>\n",
       "      <td>2017-03-01</td>\n",
       "      <td>Flour Tortillas</td>\n",
       "      <td>Verole</td>\n",
       "      <td>États-Unis</td>\n",
       "      <td>Enriched bleached flour, water, vegetable shor...</td>\n",
       "      <td>b</td>\n",
       "      <td>1021.0</td>\n",
       "      <td>2.11</td>\n",
       "      <td>0.70</td>\n",
       "      <td>46.48</td>\n",
       "      <td>0.00</td>\n",
       "      <td>7.0</td>\n",
       "      <td>8.45</td>\n",
       "      <td>1.61290</td>\n",
       "      <td>0.635000</td>\n",
       "      <td>0.0</td>\n",
       "    </tr>\n",
       "    <tr>\n",
       "      <th>200367</th>\n",
       "      <td>http://world-fr.openfoodfacts.org/produit/3222...</td>\n",
       "      <td>2013-10-01</td>\n",
       "      <td>2015-10-01</td>\n",
       "      <td>Purée nature</td>\n",
       "      <td>Casino</td>\n",
       "      <td>France</td>\n",
       "      <td>Pommes de terre 99 %, émulsifiant : mono- et d...</td>\n",
       "      <td>b</td>\n",
       "      <td>1487.0</td>\n",
       "      <td>0.60</td>\n",
       "      <td>0.40</td>\n",
       "      <td>76.00</td>\n",
       "      <td>0.80</td>\n",
       "      <td>4.6</td>\n",
       "      <td>8.00</td>\n",
       "      <td>0.15240</td>\n",
       "      <td>0.060000</td>\n",
       "      <td>0.0</td>\n",
       "    </tr>\n",
       "    <tr>\n",
       "      <th>212076</th>\n",
       "      <td>http://world-fr.openfoodfacts.org/produit/3257...</td>\n",
       "      <td>2014-08-01</td>\n",
       "      <td>2015-12-01</td>\n",
       "      <td>Lait écrémé en poudre</td>\n",
       "      <td>Cora</td>\n",
       "      <td>France</td>\n",
       "      <td>_Lait_ écrémé en poudre</td>\n",
       "      <td>b</td>\n",
       "      <td>1526.0</td>\n",
       "      <td>0.80</td>\n",
       "      <td>0.50</td>\n",
       "      <td>52.00</td>\n",
       "      <td>52.00</td>\n",
       "      <td>0.0</td>\n",
       "      <td>36.00</td>\n",
       "      <td>1.10000</td>\n",
       "      <td>0.433071</td>\n",
       "      <td>0.0</td>\n",
       "    </tr>\n",
       "  </tbody>\n",
       "</table>\n",
       "<p>6489 rows × 18 columns</p>\n",
       "</div>"
      ],
      "text/plain": [
       "                                                      url created_datetime  \\\n",
       "29055   http://world-fr.openfoodfacts.org/produit/0033...       2017-03-01   \n",
       "117841  http://world-fr.openfoodfacts.org/produit/0609...       2017-03-01   \n",
       "5262    http://world-fr.openfoodfacts.org/produit/0011...       2017-03-01   \n",
       "48412   http://world-fr.openfoodfacts.org/produit/0041...       2017-03-01   \n",
       "128016  http://world-fr.openfoodfacts.org/produit/0702...       2017-03-01   \n",
       "...                                                   ...              ...   \n",
       "28312   http://world-fr.openfoodfacts.org/produit/0032...       2017-03-01   \n",
       "23470   http://world-fr.openfoodfacts.org/produit/0027...       2017-03-01   \n",
       "23162   http://world-fr.openfoodfacts.org/produit/0027...       2017-03-01   \n",
       "200367  http://world-fr.openfoodfacts.org/produit/3222...       2013-10-01   \n",
       "212076  http://world-fr.openfoodfacts.org/produit/3257...       2014-08-01   \n",
       "\n",
       "       last_modified_datetime                               product_name  \\\n",
       "29055              2017-03-01                          Whole Grain Bread   \n",
       "117841             2017-03-01                                      Pears   \n",
       "5262               2017-03-01          Cut Sweet Potatoes In Light Syrup   \n",
       "48412              2017-03-01                          Premium Ice Cream   \n",
       "128016             2017-03-01  Hacienda, Authentic Yellow Corn Tortillas   \n",
       "...                       ...                                        ...   \n",
       "28312              2017-03-01                         Pocket Pita Breads   \n",
       "23470              2017-03-01                                Apple Crisp   \n",
       "23162              2017-03-01                            Flour Tortillas   \n",
       "200367             2015-10-01                               Purée nature   \n",
       "212076             2015-12-01                      Lait écrémé en poudre   \n",
       "\n",
       "                                                   brands countries_fr  \\\n",
       "29055                                Natural Ovens Bakery   États-Unis   \n",
       "117841                                     Nutty & Fruity   États-Unis   \n",
       "5262                                             Roundy's   États-Unis   \n",
       "48412                                                Weis   États-Unis   \n",
       "128016                             Hacienda Mexican Foods   États-Unis   \n",
       "...                                                   ...          ...   \n",
       "28312   Whole Foods Market,  Mjay's Specialty Baked Fo...   États-Unis   \n",
       "23470                                      Lyman Orchards   États-Unis   \n",
       "23162                                              Verole   États-Unis   \n",
       "200367                                             Casino       France   \n",
       "212076                                               Cora       France   \n",
       "\n",
       "                                         ingredients_text nutrition_grade_fr  \\\n",
       "29055   Whole wheat flour, water, wheat gluten, rolled...                  a   \n",
       "117841                                             Pears.                  c   \n",
       "5262            Sweet potatoes, water, corn syrup, sugar.                  c   \n",
       "48412   Nonfat milk, cream, sugar, peanut butter sauce...                  d   \n",
       "128016  Stone ground corn, water, contains less than 2...                  a   \n",
       "...                                                   ...                ...   \n",
       "28312   Enriched flour, [corn starch, niacin, (b-compl...                  b   \n",
       "23470   Filling: apples, sugar, modified corn starch, ...                  c   \n",
       "23162   Enriched bleached flour, water, vegetable shor...                  b   \n",
       "200367  Pommes de terre 99 %, émulsifiant : mono- et d...                  b   \n",
       "212076                            _Lait_ écrémé en poudre                  b   \n",
       "\n",
       "        energy_100g  fat_100g  saturated-fat_100g  carbohydrates_100g  \\\n",
       "29055        1046.0      5.56                0.00               41.67   \n",
       "117841       1046.0      0.00                0.00               62.50   \n",
       "5262          368.0      0.00                0.00               21.25   \n",
       "48412        1151.0     17.39                7.25               26.09   \n",
       "128016        920.0      3.00                0.00               44.00   \n",
       "...             ...       ...                 ...                 ...   \n",
       "28312        1046.0      0.00                0.00               53.57   \n",
       "23470         828.0      4.96                1.65               37.19   \n",
       "23162        1021.0      2.11                0.70               46.48   \n",
       "200367       1487.0      0.60                0.40               76.00   \n",
       "212076       1526.0      0.80                0.50               52.00   \n",
       "\n",
       "        sugars_100g  fiber_100g  proteins_100g  salt_100g  sodium_100g  \\\n",
       "29055          2.78         8.3          11.11    0.74168     0.292000   \n",
       "117841        27.50        20.0           2.50    0.00000     0.000000   \n",
       "5262          11.88         0.6           0.00    0.03048     0.012000   \n",
       "48412         21.74         1.4           5.80    0.42418     0.167000   \n",
       "128016         0.00         4.0           4.00    0.05080     0.020000   \n",
       "...             ...         ...            ...        ...          ...   \n",
       "28312          3.57         0.0          10.71    1.04394     0.411000   \n",
       "23470         26.45         2.5           1.65    0.21082     0.083000   \n",
       "23162          0.00         7.0           8.45    1.61290     0.635000   \n",
       "200367         0.80         4.6           8.00    0.15240     0.060000   \n",
       "212076        52.00         0.0          36.00    1.10000     0.433071   \n",
       "\n",
       "        nutrition-score-fr_100g  \n",
       "29055                      -4.0  \n",
       "117841                      3.0  \n",
       "5262                        3.0  \n",
       "48412                      14.0  \n",
       "128016                     -5.0  \n",
       "...                         ...  \n",
       "28312                       2.0  \n",
       "23470                       4.0  \n",
       "23162                       0.0  \n",
       "200367                      0.0  \n",
       "212076                      0.0  \n",
       "\n",
       "[6489 rows x 18 columns]"
      ]
     },
     "execution_count": 90,
     "metadata": {},
     "output_type": "execute_result"
    }
   ],
   "source": [
    "final[final.duplicated(subset=['product_name', 'brands'])]"
   ]
  },
  {
   "cell_type": "code",
   "execution_count": 91,
   "id": "7646a906",
   "metadata": {},
   "outputs": [],
   "source": [
    "final.drop_duplicates(subset=['product_name', 'brands'], inplace=True)"
   ]
  },
  {
   "cell_type": "code",
   "execution_count": 92,
   "id": "dd7d1fd5",
   "metadata": {},
   "outputs": [
    {
     "data": {
      "text/plain": [
       "(98973, 18)"
      ]
     },
     "execution_count": 92,
     "metadata": {},
     "output_type": "execute_result"
    }
   ],
   "source": [
    "final.shape"
   ]
  },
  {
   "cell_type": "markdown",
   "id": "92b60c0f",
   "metadata": {},
   "source": [
    "<h1>4. Sauvegarde des données nettoyées</h1><a class=\"anchor\" id=\"40\"></a>"
   ]
  },
  {
   "cell_type": "code",
   "execution_count": 93,
   "id": "5d88311f",
   "metadata": {},
   "outputs": [],
   "source": [
    "final.to_csv('food_cleaned.csv',index=False)"
   ]
  }
 ],
 "metadata": {
  "kernelspec": {
   "display_name": "Python 3 (ipykernel)",
   "language": "python",
   "name": "python3"
  },
  "language_info": {
   "codemirror_mode": {
    "name": "ipython",
    "version": 3
   },
   "file_extension": ".py",
   "mimetype": "text/x-python",
   "name": "python",
   "nbconvert_exporter": "python",
   "pygments_lexer": "ipython3",
   "version": "3.11.5"
  }
 },
 "nbformat": 4,
 "nbformat_minor": 5
}
